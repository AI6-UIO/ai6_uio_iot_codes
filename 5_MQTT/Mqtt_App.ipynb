{
 "cells": [
  {
   "cell_type": "markdown",
   "metadata": {
    "slideshow": {
     "slide_type": "slide"
    }
   },
   "source": [
    "# MQTT subscriptor\n",
    "\n",
    "### *Referencias*\n",
    "- https://www.albertcoronado.com/2018/07/07/iot-con-mqtt-mosquitto-python/"
   ]
  },
  {
   "cell_type": "markdown",
   "metadata": {
    "slideshow": {
     "slide_type": "slide"
    }
   },
   "source": [
    "## 1. Importar Librerias\n",
    "\n",
    "-Librerias para el uso de mqtt\n",
    "-Librerias para el uso de RPI"
   ]
  },
  {
   "cell_type": "code",
   "execution_count": null,
   "metadata": {
    "slideshow": {
     "slide_type": "subslide"
    }
   },
   "outputs": [],
   "source": [
    "#!/usr/bin/python3\n",
    "__author__ = \"Cristian Moyano\"\n",
    "__copyright__ = \"Cristian Moyano, 2020\"\n",
    "__credits__ = [\"Alexander Saravia\", \"Cristian Moyano\"]\n",
    "__license__ = \"CC BY-NC-SA 4.0\"\n",
    "__version__ = \"1.0.0\"\n",
    "__maintainer__ = \"Cristian Moyano\"\n",
    "__email__ = \"cristian.moyano@ieee.org\"\n",
    "__status__ = \"Development\"\n",
    "\n",
    "import ssl\n",
    "import sys\n",
    "import paho.mqtt.client\n",
    "\n",
    "import RPi.GPIO as GPIO\n",
    "import time"
   ]
  },
  {
   "cell_type": "markdown",
   "metadata": {},
   "source": [
    "## 2. Declaracion de puertos"
   ]
  },
  {
   "cell_type": "code",
   "execution_count": null,
   "metadata": {},
   "outputs": [],
   "source": [
    "GPIO.setmode(GPIO.BCM)\n",
    "GPIO.setup(18, GPIO.OUT)"
   ]
  },
  {
   "cell_type": "markdown",
   "metadata": {
    "slideshow": {
     "slide_type": "slide"
    }
   },
   "source": [
    "## 3. Declarar funciones\n",
    "\n",
    "- Funcion conectado cliente\n",
    "- Funcion mensaje para accion en RPIO\n"
   ]
  },
  {
   "cell_type": "code",
   "execution_count": null,
   "metadata": {
    "slideshow": {
     "slide_type": "subslide"
    }
   },
   "outputs": [],
   "source": [
    "def on_connect(client, userdata, flags, rc):\n",
    "    print('connected (%s)' % client._client_id)\n",
    "    client.subscribe(topic='casa/cocina/nevera', qos=2)\n",
    "    \n",
    "def on_message(client, userdata, message):\n",
    "    print('------------------------------')\n",
    "    print('topic: %s' % message.topic)\n",
    "    print('payload: %s' % message.payload.decode('UTF-8'))\n",
    "    print('qos: %d' % message.qos)\n",
    "    if message.payload.decode('UTF-8') == 'true':\n",
    "        GPIO.output(18, True)\n",
    "        print('Luz Encendida')\n",
    "    else:\n",
    "        GPIO.output(18, False)\n",
    "        print('Luz Apagada')"
   ]
  },
  {
   "cell_type": "markdown",
   "metadata": {
    "slideshow": {
     "slide_type": "slide"
    }
   },
   "source": [
    "## 3. Definicion de funcion principal\n",
    "\n"
   ]
  },
  {
   "cell_type": "code",
   "execution_count": null,
   "metadata": {
    "slideshow": {
     "slide_type": "subslide"
    }
   },
   "outputs": [],
   "source": [
    "def main():\n",
    "    client = paho.mqtt.client.Client(client_id='Cristian', clean_session=False)\n",
    "    client.on_connect = on_connect\n",
    "    client.on_message = on_message\n",
    "    client.connect(host='127.0.0.1', port=1883)\n",
    "    client.loop_forever()"
   ]
  },
  {
   "cell_type": "markdown",
   "metadata": {
    "slideshow": {
     "slide_type": "slide"
    }
   },
   "source": [
    "## 4. llamada a la funcion principal\n",
    "\n"
   ]
  },
  {
   "cell_type": "code",
   "execution_count": null,
   "metadata": {
    "slideshow": {
     "slide_type": "subslide"
    }
   },
   "outputs": [],
   "source": [
    "if __name__ == '__main__':\n",
    "    main()\n",
    " \n",
    "sys.exit(0)"
   ]
  },
  {
   "cell_type": "markdown",
   "metadata": {
    "slideshow": {
     "slide_type": "slide"
    }
   },
   "source": [
    "## Codigo completo"
   ]
  },
  {
   "cell_type": "code",
   "execution_count": null,
   "metadata": {
    "slideshow": {
     "slide_type": "subslide"
    }
   },
   "outputs": [],
   "source": [
    "#!/usr/bin/python\n",
    "__author__ = \"Cristian Moyano\"\n",
    "__copyright__ = \"Cristian Moyano, 2020\"\n",
    "__credits__ = [\"Alexander Saravia\", \"Cristian Moyano\"]\n",
    "__license__ = \"CC BY-NC-SA 4.0\"\n",
    "__version__ = \"1.0.0\"\n",
    "__maintainer__ = \"Cristian Moyano\"\n",
    "__email__ = \"cristian.moyano@ieee.org\"\n",
    "__status__ = \"Development\"\n",
    "\n",
    "import ssl\n",
    "import sys \n",
    "import paho.mqtt.client\n",
    "\n",
    "from EmulatorGUI import GPIO\n",
    "#import RPi.GPIO as GPIO\n",
    "import time\n",
    "\n",
    "GPIO.setmode(GPIO.BCM)\n",
    "GPIO.setup(18, GPIO.OUT)\n",
    "\n",
    "def on_connect(client, userdata, flags, rc):\n",
    "    print('connected (%s)' % client._client_id)\n",
    "    client.subscribe(topic='casa/sala', qos=0)\n",
    " \n",
    "def on_message(client, userdata, message):\n",
    "    print('------------------------------')\n",
    "    print('topic: %s' % message.topic)\n",
    "    print('payload: %s' % message.payload.decode('UTF-8'))\n",
    "    print('qos: %d' % message.qos)\n",
    "    if message.payload.decode('UTF-8') == 'true':\n",
    "        GPIO.output(18, True)\n",
    "        print('Luz Encendida')\n",
    "    else:\n",
    "        GPIO.output(18, False)\n",
    "        print('Luz Apagada')\n",
    " \n",
    "def main():\n",
    "    client = paho.mqtt.client.Client(client_id='Cristian', clean_session=False)\n",
    "    client.on_connect = on_connect\n",
    "    client.on_message = on_message\n",
    "    client.connect(host='127.0.0.1', port=1883)\n",
    "    client.loop_forever()\n",
    " \n",
    "if __name__ == '__main__':\n",
    "    main()\n",
    " \n",
    "sys.exit(0)"
   ]
  },
  {
   "cell_type": "markdown",
   "metadata": {},
   "source": [
    "<a rel=\"license\" href=\"http://creativecommons.org/licenses/by-nc-sa/4.0/\"><img alt=\"Creative Commons License\" \n",
    "style=\"border-width:0\" src=\"https://i.creativecommons.org/l/by-nc-sa/4.0/88x31.png\" /></a><br />This work is licensed under a <a rel=\"license\" href=\"http://creativecommons.org/licenses/by-nc-sa/4.0/\">Creative Commons Attribution-NonCommercial-ShareAlike 4.0 International License</a>."
   ]
  }
 ],
 "metadata": {
  "celltoolbar": "Slideshow",
  "kernelspec": {
   "display_name": "Python 3",
   "language": "python",
   "name": "python3"
  },
  "language_info": {
   "codemirror_mode": {
    "name": "ipython",
    "version": 3
   },
   "file_extension": ".py",
   "mimetype": "text/x-python",
   "name": "python",
   "nbconvert_exporter": "python",
   "pygments_lexer": "ipython3",
   "version": "3.7.3"
  }
 },
 "nbformat": 4,
 "nbformat_minor": 4
}
