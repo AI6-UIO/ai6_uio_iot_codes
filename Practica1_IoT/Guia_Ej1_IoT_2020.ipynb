{
 "cells": [
  {
   "cell_type": "markdown",
   "metadata": {
    "slideshow": {
     "slide_type": "slide"
    }
   },
   "source": [
    "# Guía de práctica para Introducción al IoT - Saturdays AI Quito 2020\n",
    "\n",
    "<center>\n",
    " <img src=\"img/ai6UIO.png\" height=\"300px\" width=\"300px\"></img>\n",
    "</center>\n"
   ]
  },
  {
   "cell_type": "markdown",
   "metadata": {},
   "source": [
    "# Objetivos"
   ]
  },
  {
   "cell_type": "markdown",
   "metadata": {},
   "source": [
    "# Herramientas"
   ]
  },
  {
   "cell_type": "markdown",
   "metadata": {},
   "source": [
    "# Plantemiento\n",
    "\n",
    "Si dispone de un Nodo IoT que capta 2 señales analógicas A y B (int, float) a través una comunicación serial UART (Simulada mediante SOCAT)\n",
    "\n",
    "Crear un sistema IoT basdo en Python y Raspberry Pi donde:\n",
    "\n",
    "* Se disponga de dos pulsadores (push button) donde uno inicie y el otro apague el sistema\n",
    "\n",
    "* Se implemnte una función que recibe el nivel de la variable analógica A y determine si esta al 0, 50 o 100 % cada porcentaje mostrarse con un LED distinto (utilizando __GPIO emulator__)\n",
    "\n",
    "* Una funcion para publicar la información de las señales a traves de MQTT. Para la senal A en el topico sensor/A cada 10seg y Para la senal B en el topico sensor/B cada cada 15 seg.\n",
    "Se tomará en cuenta que cada lazo de punclicacion de infromación no dure ams de 16seg (Emplear hilos)\n",
    "\n",
    "* La información, recibida por MQTT será procesada en Node RED donde se presentará una interfaz gráfica de usuario con la información de las variables.\n",
    "\n"
   ]
  },
  {
   "cell_type": "markdown",
   "metadata": {},
   "source": [
    "## Configuración de puertos seriales virtuales - VSP\n",
    "\n",
    "Para ejecutar los VSP con SOCAT\n",
    "\n",
    "`sudo socat -d -d -d -v -x PTY,link=/dev/ttyUSB10,mode=777,unlink-close,raw,echo=0 PTY,link=/dev/ttyUSB20,mode=777,unlink-close,raw,echo=0`\n",
    "\n",
    "Evaluar y otorgar permisos\n",
    "\n",
    "`ls -l /dev/ttyUSB*`\n",
    "\n",
    "`sudo chmod +x /dev/ttyUSB*`\n",
    "\n",
    "Probar enviar en terminal TX\n",
    "\n",
    "`echo \"hola mundo\" > /dev/ttyUSB20`\n",
    "\n",
    "Recibir y mostrara en terminal RX\n",
    "\n",
    "`cat < /dev/ttyUSB10`\n",
    "\n",
    "## Ejecución de Nodo IoT simulado en python\n",
    "\n",
    "Este programa envia mensajes através de MQTT de forma periodica y analógica \n"
   ]
  },
  {
   "cell_type": "markdown",
   "metadata": {},
   "source": [
    "# Solución"
   ]
  },
  {
   "cell_type": "markdown",
   "metadata": {
    "slideshow": {
     "slide_type": "slide"
    }
   },
   "source": [
    "\n",
    "# Conclusiones "
   ]
  },
  {
   "cell_type": "markdown",
   "metadata": {},
   "source": [
    "# Recomendaciones  "
   ]
  },
  {
   "cell_type": "markdown",
   "metadata": {
    "slideshow": {
     "slide_type": "slide"
    }
   },
   "source": [
    "# *Referencias*\n",
    "- Monk, S. (2018). Raspberry Pi cookbook. Place of publication not identified: O'Reilly Media. \n",
    "    > Libro: https://books.google.com.ec/books?id=QMovDAAAQBAJ&lpg=PP1&pg=PP1#v=onepage&q&f=false \n",
    "    \n",
    "    > Github Simon Monk: https://github.com/simonmonk/raspberrypi_cookbook_ed2\n",
    "- Kolban, N. (2016). Kolban's book on Raspberry pi. USA: Leanpub. \n",
    "    > Libro: https://leanpub.com/pi"
   ]
  },
  {
   "cell_type": "markdown",
   "metadata": {
    "slideshow": {
     "slide_type": "slide"
    }
   },
   "source": [
    "# Material recomendado:\n",
    ">PROTOCOLOS: UART - I2C - SPI - Comunicación\n",
    "\n",
    "[![Hilos en Python 3](https://img.youtube.com/vi/G7aQB6x0LHc/0.jpg)](https://www.youtube.com/watch?v=G7aQB6x0LHc)\n"
   ]
  },
  {
   "cell_type": "markdown",
   "metadata": {
    "slideshow": {
     "slide_type": "slide"
    }
   },
   "source": [
    "\n",
    "> Desarrollo: Alexander Saravia\n",
    "\n",
    "> email: alexandersaravia@protonmail.com \n",
    "\n",
    "<center>\n",
    "<a rel=\"license\" href=\"http://creativecommons.org/licenses/by-nc-sa/4.0/\"><center><img alt=\"Creative Commons License\" style=\"border-width:0\" src=\"https://i.creativecommons.org/l/by-nc-sa/4.0/88x31.png\" /> </center> </a> <br />This work is licensed under a <a rel=\"license\" href=\"http://creativecommons.org/licenses/by-nc-sa/4.0/\">Creative Commons Attribution-NonCommercial-ShareAlike 4.0 International License</a>\n",
    "</center>\n"
   ]
  }
 ],
 "metadata": {
  "celltoolbar": "Slideshow",
  "kernelspec": {
   "display_name": "Python 3",
   "language": "python",
   "name": "python3"
  },
  "language_info": {
   "codemirror_mode": {
    "name": "ipython",
    "version": 3
   },
   "file_extension": ".py",
   "mimetype": "text/x-python",
   "name": "python",
   "nbconvert_exporter": "python",
   "pygments_lexer": "ipython3",
   "version": "3.7.3"
  },
  "rise": {
   "enable_chalkboard": true,
   "footer": "<h3>Alexander Saravia</h3>",
   "header": "<h3>IoT Saturdays AI</h3>",
   "scroll": true,
   "theme": "serif",
   "transition": "zoom"
  },
  "toc": {
   "base_numbering": 1,
   "nav_menu": {
    "height": "384px",
    "width": "495px"
   },
   "number_sections": true,
   "sideBar": true,
   "skip_h1_title": false,
   "title_cell": "Table of Contents",
   "title_sidebar": "Contents",
   "toc_cell": false,
   "toc_position": {},
   "toc_section_display": true,
   "toc_window_display": false
  },
  "varInspector": {
   "cols": {
    "lenName": 16,
    "lenType": 16,
    "lenVar": 40
   },
   "kernels_config": {
    "python": {
     "delete_cmd_postfix": "",
     "delete_cmd_prefix": "del ",
     "library": "var_list.py",
     "varRefreshCmd": "print(var_dic_list())"
    },
    "r": {
     "delete_cmd_postfix": ") ",
     "delete_cmd_prefix": "rm(",
     "library": "var_list.r",
     "varRefreshCmd": "cat(var_dic_list()) "
    }
   },
   "types_to_exclude": [
    "module",
    "function",
    "builtin_function_or_method",
    "instance",
    "_Feature"
   ],
   "window_display": false
  }
 },
 "nbformat": 4,
 "nbformat_minor": 4
}