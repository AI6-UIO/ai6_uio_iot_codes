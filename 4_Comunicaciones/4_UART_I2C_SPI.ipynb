{
 "cells": [
  {
   "cell_type": "markdown",
   "metadata": {
    "slideshow": {
     "slide_type": "slide"
    }
   },
   "source": [
    "# Comunicaciones de datos\n",
    "\n",
    "La comunicación de datos es el proceso de transferir información digital, por lo general, en forma binaria, entre dos o más puntos.\n",
    "\n",
    "Los datos pueden ser de naturaleza alfabética, numérica o simbólica, y están formados por cualquier símbolo, o una combinación de estos.\n",
    "\n",
    "<center>\n",
    " <img src=\"img/siscom.png\" height=\"700px\" width=\"700px\"></img>\n",
    " <figcaption> <em>Esquema ejemplo de un sistema de comunicaciones digital </em> <br> Fuente: (Tomasi, 2003, cap. 13)</figcaption>\n",
    "</center>\n",
    "\n",
    "La información binaria se puede transmitir en forma paralela o en serie (“serial”).\n",
    "(Tomasi, 2003, cap. 13)\n"
   ]
  },
  {
   "cell_type": "markdown",
   "metadata": {
    "slideshow": {
     "slide_type": "slide"
    }
   },
   "source": [
    "## Paralela \n",
    "\n",
    "Cada posición de bit (A0 a A3) tiene su propia línea de transmisión. En consecuencia, los cuatro bits se pueden transmitir en forma simultánea durante el tiempo de un solo pulso del reloj (T). A esta clase de transmisión se le llama paralela a nivel de bit o en serie a nivel de carácter. (Tomasi, 2003)\n",
    " \n",
    "<center>\n",
    " <img src=\"img/paralela.png\" height=\"500px\" width=\"500px\"></img>\n",
    " <figcaption> <em>Transmisión paralela </em><br> Fuente: (Tomasi, 2003, cap. 13)</figcaption>\n",
    "</center>\n"
   ]
  },
  {
   "cell_type": "markdown",
   "metadata": {
    "slideshow": {
     "slide_type": "slide"
    }
   },
   "source": [
    "## Serial\n",
    "\n",
    "Hay una sola línea de transmisión y, en consecuencia, sólo se puede transmitir un bit cada vez. Por lo anterior, se requieren cuatro pulsos de reloj (4T) para transmitir toda la palabra. A esta clase de transmisión se le llama con frecuencia en serie a nivel de bit. (Tomasi, 2003)\n",
    "\n",
    "<center>\n",
    " <img src=\"img/serie.png\" height=\"500px\" width=\"500px\"></img>\n",
    " <figcaption> <em>Transmisión serie</em> <br> Fuente: (Tomasi, 2003, cap. 13)</figcaption>\n",
    "</center>\n",
    "\n",
    "- __Sincrona__: Emplea una señal de reloj para determinar la trama de datos\n",
    "- __Asincrona__:  Emplea bits de inicio y parada para determinar la trama de datos "
   ]
  },
  {
   "cell_type": "markdown",
   "metadata": {
    "slideshow": {
     "slide_type": "subslide"
    }
   },
   "source": [
    "## Observaciones \n",
    "\n",
    "* La transmisión de datos se puede hacer con mucha mayor rapidez usando el sistema en paralelo; sin embargo, en él se requieren más líneas entre la fuente y el destino. \n",
    "\n",
    "* Se usa transmisión en paralelo para comunicaciones en distancias cortas, y dentro de una computadora. \n",
    "\n",
    "* Serie se usa para comunicaciones a gran distancia.\n",
    "\n",
    "(Tomasi, 2003, cap. 13)"
   ]
  },
  {
   "cell_type": "markdown",
   "metadata": {
    "slideshow": {
     "slide_type": "slide"
    }
   },
   "source": [
    "## Modos de trasnmisión \n",
    "\n",
    "<center>\n",
    " <img src=\"img/mtransmision.png\" height=\"600px\" width=\"600px\"></img>\n",
    " <figcaption><em>Trasnmisión paralela</em> <br> Fuente: <a href=\"https://www.codrey.com/wp-content/uploads/2017/09/Serial-Communication.png\">Codrey Electronics</a>  </figcaption>\n",
    "</center>"
   ]
  },
  {
   "cell_type": "markdown",
   "metadata": {
    "slideshow": {
     "slide_type": "skip"
    }
   },
   "source": [
    "### Modos de trasnmisión\n",
    "\n",
    "- __Símplex__\n",
    "\n",
    "Unidireccional; sólo se puede mandar información en una dirección. Ejemplo: televisión y radio.\n",
    "\n",
    "- __Semidúplex (HDX)__\n",
    "\n",
    "Posible en ambas direcciones, pero no al mismo tiempo. Ejemplo: radio de banda civil (CB).\n",
    "\n",
    "- __Dúplex (FDX)__\n",
    "\n",
    "Forma simultánea en ambas direcciones, pero deben ser entre las mismas dos estaciones. Ejemplo: sistema telefónico normal es un ejemplo de transmisión dúplex.\n",
    "\n",
    "- __Dúplex total/general (F/FDX)__\n",
    "\n",
    "Transmisión en ambas direcciones al mismo tiempo, pero no entre las mismas dos estaciones; es decir, una estación transmite a una segunda estación y recibe al mismo tiempo de una tercera estación. El modo F/FDX sólo es posible en circuitos de varios puntos. Ejemplo: sistema postal.\n"
   ]
  },
  {
   "cell_type": "markdown",
   "metadata": {
    "slideshow": {
     "slide_type": "slide"
    }
   },
   "source": [
    "# Habilitación de interfaces\n",
    "\n",
    "Ejecutar en la terminal \n",
    "\n",
    "`sudo rasp-config`\n",
    "\n",
    "<center>\n",
    " <img src=\"img/conf1.png\" height=\"600px\" width=\"600px\"></img>\n",
    " <figcaption><em>Configuración de Raspberry Pi</em></a>  </figcaption>\n",
    "</center>\n",
    "\n",
    "En el menu `5 Interfacing Options`\n",
    "\n",
    "\n",
    "\n"
   ]
  },
  {
   "cell_type": "markdown",
   "metadata": {
    "slideshow": {
     "slide_type": "slide"
    }
   },
   "source": [
    "Activar la opcion de la comuinicacion que querramos ejecutar\n",
    "<center>\n",
    " <img src=\"img/conf2.png\" height=\"600px\" width=\"600px\"></img>\n",
    " <figcaption><em>Interfaces de Raspberry Pi</em></a>  </figcaption>\n",
    "</center>\n"
   ]
  },
  {
   "cell_type": "markdown",
   "metadata": {
    "slideshow": {
     "slide_type": "slide"
    }
   },
   "source": [
    "# Universal Asynchronous Receiver and Transmitter - UART\n",
    "\n",
    "Es un mecanismo para transmitir y recibir datos paralelos a través de una conexión de línea en serie. Los datos que se transmiten se serializan en una secuencia de bits y se envían por el cable. Maneja Full-duplex, Duplex y Simplex\n",
    "\n",
    "<center>\n",
    " <img src=\"img/UART.png\" height=\"500px\" width=\"500px\"></img>\n",
    " <figcaption> <em>Transmisión UART </em><br> Fuente: <a href=\"https://commons.wikimedia.org/wiki/File:UART_Frame.svg\">Wikipedia</a></figcaption>\n",
    "</center>\n",
    "\n",
    "El receptor recibe los bits y los ensambla nuevamente en los datos originales. Tanto el emisor como el receptor acuerdan previamente la velocidad de transmisión de los datos.\n"
   ]
  },
  {
   "cell_type": "markdown",
   "metadata": {
    "slideshow": {
     "slide_type": "slide"
    }
   },
   "source": [
    "## Características UART\n",
    "\n",
    "+ __Longitud de los datos:__ Cantidad de bits del dato (8 o 9 bits)\n",
    "+ __Velocidad de trasnmisión:__ Cambios de estado, o eventos de señalización, que la señal tiene en un segundo. Típicamente valores de 9600, 19200, 57600 y 115200 baudios/segundo. \n",
    "$$ Bit Time=\\frac{1}{9600}= 104 \\mu s$$\n",
    "\n",
    "+ __Bits de Inicio, Parada y Paridad__: Indican la loguitud de la trama de datos."
   ]
  },
  {
   "cell_type": "markdown",
   "metadata": {
    "slideshow": {
     "slide_type": "slide"
    }
   },
   "source": [
    "## UART en Raspberry Pi\n",
    "\n",
    "<center>\n",
    " <img src=\"img/UARTpi.png\"></img>\n",
    " <figcaption> <em>Pines UART en Raspberry Pi </em><br> Fuente:(Kolban N., 2016, pg. 75) </figcaption>\n",
    "</center>\n"
   ]
  },
  {
   "cell_type": "markdown",
   "metadata": {
    "slideshow": {
     "slide_type": "subslide"
    }
   },
   "source": [
    "## Pines de UART\n",
    "- __TX:__ Trasnmisión de datos\n",
    "- __RX:__ Recepción de datos\n",
    "- __GND:__ Referencia entre emisor y receptor"
   ]
  },
  {
   "cell_type": "markdown",
   "metadata": {
    "slideshow": {
     "slide_type": "skip"
    }
   },
   "source": [
    "Para identificar los puertos y dar permisos \n",
    "\n",
    "`lsusb -v`\n",
    "\n",
    "`dmesg | grep tty`\n",
    "\n",
    "`ls -l /dev/tty*`\n",
    "\n",
    "`sudo systemctl status serial-getty@<puerto>`"
   ]
  },
  {
   "cell_type": "markdown",
   "metadata": {
    "slideshow": {
     "slide_type": "skip"
    }
   },
   "source": [
    "## Puertos seriales virtuales - VSP\n",
    "\n",
    "Para ejecutar los VSP con SOCAT\n",
    "\n",
    "`sudo socat -d -d -d -v -x PTY,link=/dev/ttyUSB10,mode=777,unlink-close,raw,echo=0 PTY,link=/dev/ttyUSB20,mode=777,unlink-close,raw,echo=0`\n",
    "\n",
    "Evaluar y otorgar permisos\n",
    "\n",
    "`ls -l /dev/ttyUSB*`\n",
    "\n",
    "`sudo chmod +x /dev/ttyUSB*`\n",
    "\n",
    "Probar enviar en terminal TX\n",
    "\n",
    "`echo \"hola mundo\" > /dev/ttyUSB20`\n",
    "\n",
    "Recibir y mostrara en terminal RX\n",
    "\n",
    "`cat < /dev/ttyUSB10`"
   ]
  },
  {
   "cell_type": "markdown",
   "metadata": {
    "slideshow": {
     "slide_type": "slide"
    }
   },
   "source": [
    "## Pyfirmata (Arduino) - 16.5\n",
    "\n",
    "Emplea firmware con comandos especificos para controlar una placa Arduino a través de comunicación Serial.\n",
    "\n",
    "<center>\n",
    " <img src=\"img/firmataArduino.png\"></img>\n",
    " <figcaption> <em>Firmata para Arduino </em><br> Fuente:(Kolban N., 2016, pg. 69) </figcaption>\n",
    "</center>"
   ]
  },
  {
   "cell_type": "markdown",
   "metadata": {
    "slideshow": {
     "slide_type": "slide"
    }
   },
   "source": [
    "Instalar pyfirmata en raspberry pi\n",
    "\n",
    "`sudo pip3 install pyfirmata`"
   ]
  },
  {
   "cell_type": "code",
   "execution_count": null,
   "metadata": {
    "slideshow": {
     "slide_type": "fragment"
    }
   },
   "outputs": [],
   "source": [
    "import time\n",
    "from pyfirmata import Arduino, util\n",
    "board = Arduino('/dev/ttyAMA0')\n",
    "for i in range(20):\n",
    "    time.sleep(.500)\n",
    "    board.digital[13].write(1)\n",
    "    time.sleep(.500)\n",
    "    board.digital[13].write(0)"
   ]
  },
  {
   "cell_type": "markdown",
   "metadata": {
    "slideshow": {
     "slide_type": "slide"
    }
   },
   "source": [
    "## Pyserial \n",
    "\n",
    "Si se busca un control de acuerdo con comando personalizados, entonces se puede usar el modulo `serial` de python.\n",
    "\n",
    "`sudo pip3 install serial`\n",
    "\n",
    "Además se debe conocer la lista de comandos del dispositivo serial conectado. En este caso podemos personalizar nuestro programa de Arduino.\n",
    "\n",
    "```c++\n",
    "#include \"SoftwareSerial.h\"\n",
    "\n",
    "int ledPin = 13; int analogPin = A0;\n",
    "\n",
    "SoftwareSerial ser(8, 9); // RX, TX \n",
    "boolean ledOn = false;\n",
    "\n",
    "void setup()\n",
    "{\n",
    "ser.begin(9600); \n",
    "pinMode(ledPin, OUTPUT);\n",
    "}\n",
    "\n",
    "void loop() {\n",
    "    if (ser.available()) {\n",
    "        char ch = ser.read(); \n",
    "        if (ch == 'l'){\n",
    "            toggleLED();\n",
    "        }\n",
    "        if (ch == 'r') {\n",
    "            sendAnalogReading();\n",
    "        }\n",
    "    } \n",
    "}\n",
    "void toggleLED() {\n",
    "      ledOn = ! ledOn;\n",
    "      digitalWrite(ledPin, ledOn);\n",
    "}\n",
    "    \n",
    "void sendAnalogReading() {\n",
    "    int reading = analogRead(analogPin);\n",
    "    ser.println(reading); \n",
    "}\n",
    "\n",
    "```"
   ]
  },
  {
   "cell_type": "code",
   "execution_count": null,
   "metadata": {
    "slideshow": {
     "slide_type": "slide"
    }
   },
   "outputs": [],
   "source": [
    "\n",
    "import serial\n",
    "ser = serial.Serial('/dev/ttyAMA0', 9600)\n",
    "\n",
    "while True:\n",
    "    command = input(\"Enter command: l - toggle LED, r - read A0 \") \n",
    "    if command == 'l' :\n",
    "        print(\"escribinedo ...\")\n",
    "        ser.write(str.encode('l')) \n",
    "    elif command == 'r' :\n",
    "        ser.write(str.encode('r')) \n",
    "        print(ser.readline())\n",
    "\n",
    "        "
   ]
  },
  {
   "cell_type": "markdown",
   "metadata": {
    "slideshow": {
     "slide_type": "slide"
    }
   },
   "source": [
    "# Inter - Integrated Circuit - $I^2C$\n",
    "Se trata de una comunicacion síncrona, que emplea un bus serial half duplex de dos líneas para comunicación entre dos o más dispositivos con una configuración múltiple maestro – múltiple esclavo.\n",
    "\n",
    "<center>\n",
    " <img src=\"img/I2C.png\" height=\"500px\" width=\"500px\"></img>\n",
    " <figcaption> <em>Pines $I^2C$ en Raspberry Pi </em><br> Fuente:(Kolban N., 2016, pg. 69) </figcaption>\n",
    "</center>\n",
    "\n",
    "\n",
    "Para poder comunicarse el maestro debe conocer la dirección del dispositivo (depende del dispositivo y viene de fabrica).\n"
   ]
  },
  {
   "cell_type": "markdown",
   "metadata": {
    "slideshow": {
     "slide_type": "slide"
    }
   },
   "source": [
    "## Características $I^2C$\n",
    "\n",
    "+ __Longitud de los datos:__ Cantidad de bits del dato (15 o 16 bits)\n",
    "+ __Frecuenia de reloj:__ Frecuencia de sincronización de los bits de datos.\n",
    "\n",
    "+ La transimisión de bits se puede dar comenzando con el LSB o con MSB depende del fabricante\n",
    "\n",
    "+ Un bit es transmitido cada ciclo de reloj."
   ]
  },
  {
   "cell_type": "markdown",
   "metadata": {
    "slideshow": {
     "slide_type": "slide"
    }
   },
   "source": [
    "## $I^2C$ en Raspberry Pi\n",
    "\n",
    "<center>\n",
    " <img src=\"img/I2Cpi.png\"></img>\n",
    " <figcaption> <em>Pines $I^2C$ en Raspberry Pi </em><br> Fuente:(Kolban N., 2016, pg. 69) </figcaption>\n",
    "</center>"
   ]
  },
  {
   "cell_type": "markdown",
   "metadata": {
    "slideshow": {
     "slide_type": "skip"
    }
   },
   "source": [
    "Comandos para identificar dispositivos y dar permisos\n",
    "\n",
    "instalar las herramientas \n",
    "\n",
    "`sudo apt-get install i2c-tools`\n",
    "\n",
    "Para obtener la dirección de los dispositivos $I^2C$ \n",
    "\n",
    "`sudo i2cdetect -y 1`"
   ]
  },
  {
   "cell_type": "markdown",
   "metadata": {
    "slideshow": {
     "slide_type": "slide"
    }
   },
   "source": [
    "## Pines  $I^2C$ \n",
    "\n",
    "* __Serial Data (SDA):__ Envía los datos de forma bidireccional.\n",
    "* __Serial Clock (SCL):__ Señal de reloj que sincroniza la comunicación.\n"
   ]
  },
  {
   "cell_type": "code",
   "execution_count": 5,
   "metadata": {
    "slideshow": {
     "slide_type": "slide"
    }
   },
   "outputs": [],
   "source": [
    "\n",
    "# Codigo demo SMBus\n"
   ]
  },
  {
   "cell_type": "markdown",
   "metadata": {
    "slideshow": {
     "slide_type": "slide"
    }
   },
   "source": [
    "# Serial Peripherial Interface - SPI\n",
    "Esta comunicación síncrona emplea un bus serial full duplex de cuatro líneas para comunicar la SBC con dispositivos externos, para esto utiliza una configuración único maestro - múltiple esclavo. En este proyecto el objetivo es comunicar múltiples dispositivos con la Raspberry Pi.\n",
    "\n",
    "<center>\n",
    " <img src=\"img/SPI.png\" height=\"500px\" width=\"500px\"></img>\n",
    " <figcaption> <em>Pines SPI en Raspberry Pi </em><br> Fuente:(Kolban N., 2016, pg. 69) </figcaption>\n",
    "</center>\n"
   ]
  },
  {
   "cell_type": "markdown",
   "metadata": {
    "slideshow": {
     "slide_type": "slide"
    }
   },
   "source": [
    "## Carcterísticas SPI\n",
    "\n",
    "Tenemos que configurar primero una serie de parámetros:\n",
    "\n",
    "- La polaridad de la señal chip select (CSPOL). Normalmente es activa a nivel bajo y no necesita modificarse.\n",
    "\n",
    "- Los pulsos de reloj pueden estar programados de manera que la transmisión del bit se realice en 4 modos diferentes, a esto se llama polaridad (CPOL) y fase de la transmisión (CPHA): \n",
    "\n",
    "<table>\n",
    "    <thead>\n",
    "        <tr>\n",
    "            <th>Modo</th>\n",
    "            <th>CPOL</th>\n",
    "            <th>CPHA</th>\n",
    "            <th> <center>Descripción</center></th>\n",
    "        </tr>\n",
    "    </thead>\n",
    "    <tbody>\n",
    "        <tr>\n",
    "            <td> 0</td>\n",
    "            <td>0</td>\n",
    "            <td>0</td>\n",
    "            <td>El estado del reloj permanece en estado lógico bajo y la información se envía en cada transición de bajo a alto.</td>\n",
    "        </tr>\n",
    "        <tr>\n",
    "            <td> 1</td>\n",
    "            <td>0</td>\n",
    "            <td>1</td>\n",
    "            <td>El estado del reloj permanece en estado lógico bajo y la información se envía en cada transición de alto a bajo.</td>\n",
    "        </tr>\n",
    "        <tr>\n",
    "            <td> 2</td>\n",
    "            <td>1</td>\n",
    "            <td>0</td>\n",
    "            <td>El estado del reloj permanece en estado lógico alto y la información se envía en cada transición de bajo a alto.</td>\n",
    "        </tr>\n",
    "        <tr>\n",
    "            <td> 3</td>\n",
    "            <td>1</td>\n",
    "            <td>1</td>\n",
    "            <td>El estado del reloj permanece en estado lógico alto y la información se envía en cada transición de alto a bajo.</td>\n",
    "        </tr>\n",
    "    </tbody>\n",
    "</table>\n"
   ]
  },
  {
   "cell_type": "markdown",
   "metadata": {
    "slideshow": {
     "slide_type": "subslide"
    }
   },
   "source": [
    "El maestro debe configurar su interfaz SPI con un modo SPI que el esclavo sea capaz de interpretar. \n",
    "\n",
    "<center>\n",
    " <img src=\"img/SPImodos.png\" height=\"500px\" width=\"500px\"></img>\n",
    "  <figcaption> <em>Modos SPI </em><br> Fuente: <a href=\"https://controlautomaticoeducacion.com/microcontroladores-pic/comunicacion-spi/\">controlautomaticoeducacion.com</a></figcaption>\n",
    "</center>"
   ]
  },
  {
   "cell_type": "markdown",
   "metadata": {
    "slideshow": {
     "slide_type": "slide"
    }
   },
   "source": [
    "## SPI en Raspberry Pi\n",
    "<center>\n",
    " <img src=\"img/SPIpi.png\"></img>\n",
    " <figcaption> <em>Pines SPI en Raspberry Pi </em><br> Fuente:(Kolban N., 2016, pg. 65) </figcaption>\n",
    "</center>"
   ]
  },
  {
   "cell_type": "markdown",
   "metadata": {
    "slideshow": {
     "slide_type": "skip"
    }
   },
   "source": [
    "Comandos para identificar dispositivos y dar permisos\n",
    "\n",
    "`ls -l /dev/spidev*`\n",
    "\n",
    "`lsmod | grep spi`\n",
    "\n",
    "\n",
    "Ejemplo de como emplea `spidev`\n",
    "```python\n",
    "import spidev\n",
    "spi = spidev.SpiDev()\n",
    "spi.open(bus, device)\n",
    "\n",
    "# Settings (for example)\n",
    "spi.max_speed_hz = 5000\n",
    "spi.mode = 0b01\n",
    "spi.xfer([0x01, 0x02, 0x03]) \n",
    "spi.close()\n",
    "\n",
    "...\n",
    "```\n",
    "\n",
    "* `bits_per_word`\n",
    "* `cshigh`\n",
    "* `loop` - Set the \"SPI_LOOP\" flag to enable loopback mode\n",
    "* `no_cs` - Set the \"SPI_NO_CS\" flag to disable use of the chip select (although the driver may still own the CS pin)\n",
    "* `lsbfirst`\n",
    "* `max_speed_hz`\n",
    "* `mode` - SPI mode as two bit pattern of clock polarity and phase [CPOL|CPHA], min: 0b00 = 0, max: 0b11 = 3\n",
    "* `threewire` - SI/SO signals shared\n"
   ]
  },
  {
   "cell_type": "markdown",
   "metadata": {
    "slideshow": {
     "slide_type": "slide"
    }
   },
   "source": [
    "## Pines de SPI\n",
    "\n",
    "- __Master input slave output (MISO):__ Envía datos (bits) de forma serial desde esclavo a maestro.\n",
    "- __Master output slave input (MOSI):__ Envía datos (bits) de forma serial desde maestro a esclavo.\n",
    "- __Clock (CLK):__ Establece la velocidad y transmisión en el bus SPI.\n",
    "- __Slave Select (SS/SDA/CS):__ Selecciona el dispositivo de destino del mensaje MOSI.\n"
   ]
  },
  {
   "cell_type": "code",
   "execution_count": null,
   "metadata": {},
   "outputs": [],
   "source": [
    "# Codigo demo "
   ]
  },
  {
   "cell_type": "markdown",
   "metadata": {
    "slideshow": {
     "slide_type": "slide"
    }
   },
   "source": [
    "\n",
    "# Resumen \n",
    "\n",
    "<center>\n",
    " <img src=\"img/comparacion.png\" ></img>\n",
    " <figcaption> <em>Resumen de comunicaciones seriales </em><br> Fuente: <a href=\"https://www.youtube.com/watch?v=G7aQB6x0LHc\"> Youtube ELECTRONOOBS España</a></figcaption>\n",
    "</center>"
   ]
  },
  {
   "cell_type": "markdown",
   "metadata": {
    "slideshow": {
     "slide_type": "slide"
    }
   },
   "source": [
    "# *Referencias*\n",
    "- Monk, S. (2018). Raspberry Pi cookbook. Place of publication not identified: O'Reilly Media. \n",
    "    > Libro: https://books.google.com.ec/books?id=QMovDAAAQBAJ&lpg=PP1&pg=PP1#v=onepage&q&f=false \n",
    "    \n",
    "    > Github Simon Monk: https://github.com/simonmonk/raspberrypi_cookbook_ed2\n",
    "- Kolban, N. (2016). Kolban's book on Raspberry pi. USA: Leanpub. \n",
    "    > Libro: https://leanpub.com/pi\n",
    "    \n",
    "- Tomasi, W. (2003). Sistemas De Comunicaciones Electrónicas. Pearson Educación de México, SA de CV. "
   ]
  },
  {
   "cell_type": "markdown",
   "metadata": {
    "slideshow": {
     "slide_type": "slide"
    }
   },
   "source": [
    "# Material recomendado:\n",
    ">PROTOCOLOS: UART - I2C - SPI - Comunicación\n",
    "\n",
    "[![Hilos en Python 3](https://img.youtube.com/vi/G7aQB6x0LHc/0.jpg)](https://www.youtube.com/watch?v=G7aQB6x0LHc)"
   ]
  },
  {
   "cell_type": "markdown",
   "metadata": {
    "slideshow": {
     "slide_type": "slide"
    }
   },
   "source": [
    "<center>\n",
    " <img src=\"img/footer_basaravia.png\"></img>\n",
    " <figcaption>\n",
    "    \n",
    "<a rel=\"license\" href=\"http://creativecommons.org/licenses/by-nc-sa/4.0/\"><center><img alt=\"Creative Commons License\" style=\"border-width:0\" src=\"https://i.creativecommons.org/l/by-nc-sa/4.0/88x31.png\" /> </center> </a> <br />This work is licensed under a <a rel=\"license\" href=\"http://creativecommons.org/licenses/by-nc-sa/4.0/\">Creative Commons Attribution-NonCommercial-ShareAlike 4.0 International License</a>\n",
    "    \n",
    "</figcaption>\n",
    "\n",
    "</center>\n"
   ]
  }
 ],
 "metadata": {
  "celltoolbar": "Slideshow",
  "kernelspec": {
   "display_name": "Python 3",
   "language": "python",
   "name": "python3"
  },
  "language_info": {
   "codemirror_mode": {
    "name": "ipython",
    "version": 3
   },
   "file_extension": ".py",
   "mimetype": "text/x-python",
   "name": "python",
   "nbconvert_exporter": "python",
   "pygments_lexer": "ipython3",
   "version": "3.7.3"
  },
  "rise": {
   "enable_chalkboard": true,
   "footer": "<h3>Alexander Saravia</h3>",
   "header": "<h3>IoT Saturdays AI</h3>",
   "scroll": true,
   "theme": "serif",
   "transition": "zoom"
  },
  "toc": {
   "base_numbering": 1,
   "nav_menu": {
    "height": "384px",
    "width": "495px"
   },
   "number_sections": true,
   "sideBar": true,
   "skip_h1_title": false,
   "title_cell": "Table of Contents",
   "title_sidebar": "Contents",
   "toc_cell": false,
   "toc_position": {},
   "toc_section_display": true,
   "toc_window_display": false
  },
  "varInspector": {
   "cols": {
    "lenName": 16,
    "lenType": 16,
    "lenVar": 40
   },
   "kernels_config": {
    "python": {
     "delete_cmd_postfix": "",
     "delete_cmd_prefix": "del ",
     "library": "var_list.py",
     "varRefreshCmd": "print(var_dic_list())"
    },
    "r": {
     "delete_cmd_postfix": ") ",
     "delete_cmd_prefix": "rm(",
     "library": "var_list.r",
     "varRefreshCmd": "cat(var_dic_list()) "
    }
   },
   "types_to_exclude": [
    "module",
    "function",
    "builtin_function_or_method",
    "instance",
    "_Feature"
   ],
   "window_display": false
  }
 },
 "nbformat": 4,
 "nbformat_minor": 4
}
