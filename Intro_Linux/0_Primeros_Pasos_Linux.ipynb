{
 "cells": [
  {
   "cell_type": "markdown",
   "metadata": {
    "slideshow": {
     "slide_type": "slide"
    }
   },
   "source": [
    "# Shell\n",
    "Interprete de linea de comandos del kernel de sistemas basados en UNIX\n",
    "\n",
    "## Bash\n",
    " Bourne-Again SHell (Bash) es una espacificacion de shell \n",
    " \n",
    "## Qué es ?\n",
    "Bash es uno de varios shells conocidos de los sistemas basdos en UNIX (base de los sitemas operativos GNU/Linux y macOS).\n",
    "<center>\n",
    " <img src=\"imagenes/raspbian.png\" height=\"300px\" width=\"300px\"></img>\n",
    "</center>"
   ]
  },
  {
   "cell_type": "markdown",
   "metadata": {
    "slideshow": {
     "slide_type": "slide"
    }
   },
   "source": [
    "\n",
    "## Cómo Funciona ?\n",
    "El objetivo principal de un shell de UNIX es permitir a los usuarios interactuar de manera efectiva con el sistema a través de la línea de comandos.\n",
    "\n",
    "Una acción de shell común es invocar un ejecutable, que a su vez hace que el núcleo cree un nuevo proceso en ejecución.\n",
    "\n",
    "\n",
    "<center>\n",
    "<img src=\"bash.png\" align=center height=\"300px\" width=\"300px\"></img>\n",
    "</center>"
   ]
  },
  {
   "cell_type": "markdown",
   "metadata": {
    "slideshow": {
     "slide_type": "slide"
    }
   },
   "source": [
    "# Comandos basicos de Bash"
   ]
  },
  {
   "cell_type": "code",
   "execution_count": 5,
   "metadata": {
    "jupyter": {
     "outputs_hidden": true
    },
    "slideshow": {
     "slide_type": "fragment"
    }
   },
   "outputs": [
    {
     "name": "stdout",
     "output_type": "stream",
     "text": [
      "IFCONFIG(8)           Linux System Administrator's Manual          IFCONFIG(8)\n",
      "\n",
      "NAME\n",
      "       ifconfig - configure a network interface\n",
      "\n",
      "SYNOPSIS\n",
      "       ifconfig [-v] [-a] [-s] [interface]\n",
      "       ifconfig [-v] interface [aftype] options | address ...\n",
      "\n",
      "DESCRIPTION\n",
      "       Ifconfig  is  used to configure the kernel-resident network interfaces.\n",
      "       It is used at boot time to set up interfaces as necessary.  After that,\n",
      "       it  is  usually  only  needed  when  debugging or when system tuning is\n",
      "       needed.\n",
      "\n",
      "       If no arguments are given, ifconfig displays the  status  of  the  cur‐\n",
      "       rently  active interfaces.  If a single interface argument is given, it\n",
      "       displays the status of the given interface only; if a single  -a  argu‐\n",
      "       ment  is  given,  it  displays the status of all interfaces, even those\n",
      "       that are down.  Otherwise, it configures an interface.\n",
      "\n",
      "Address Families\n",
      "       If the first argument after the interface name  is  recognized  as  the\n",
      "       name of a supported address family, that address family is used for de‐\n",
      "       coding and displaying all protocol addresses.  Currently supported  ad‐\n",
      "       dress families include inet (TCP/IP, default), inet6 (IPv6), ax25 (AMPR\n",
      "       Packet Radio), ddp (Appletalk Phase 2), ipx  (Novell  IPX)  and  netrom\n",
      "       (AMPR Packet radio).  All numbers supplied as parts in IPv4 dotted dec‐\n",
      "       imal notation may be decimal, octal, or hexadecimal,  as  specified  in\n",
      "       the  ISO  C  standard (that is, a leading 0x or 0X implies hexadecimal;\n",
      "       otherwise, a leading '0' implies octal; otherwise, the number is inter‐\n",
      "       preted  as  decimal).  Use of hexadecimal and octal numbers is not RFC-\n",
      "       compliant and therefore its use is discouraged.\n",
      "\n",
      "OPTIONS\n",
      "       -a     display all interfaces which are currently  available,  even  if\n",
      "              down\n",
      "\n",
      "       -s     display a short list (like netstat -i)\n",
      "\n",
      "       -v     be more verbose for some error conditions\n",
      "\n",
      "       interface\n",
      "              The  name  of the interface.  This is usually a driver name fol‐\n",
      "              lowed by a unit number, for example eth0 for the first  Ethernet\n",
      "              interface.  If  your  kernel  supports alias interfaces, you can\n",
      "              specify them with syntax like eth0:0  for  the  first  alias  of\n",
      "              eth0.  You  can  use them to assign more addresses. To delete an\n",
      "              alias interface use ifconfig eth0:0 down.  Note: for every scope\n",
      "              (i.e. same net with address/netmask combination) all aliases are\n",
      "              deleted, if you delete the first (primary).\n",
      "\n",
      "       up     This flag causes the interface to be activated.  It  is  implic‐\n",
      "              itly  specified  if an address is assigned to the interface; you\n",
      "              can suppress this behavior when using an alias interface by  ap‐\n",
      "              pending  an  -  to  the  alias (e.g.  eth0:0-).  It is also sup‐\n",
      "              pressed when using the IPv4 0.0.0.0 address as the  kernel  will\n",
      "              use this to implicitly delete alias interfaces.\n",
      "\n",
      "       down   This flag causes the driver for this interface to be shut down.\n",
      "\n",
      "       [-]arp Enable or disable the use of the ARP protocol on this interface.\n",
      "\n",
      "       [-]promisc\n",
      "              Enable or disable the promiscuous mode of the interface.  If se‐\n",
      "              lected, all packets on the network will be received by  the  in‐\n",
      "              terface.\n",
      "\n",
      "       [-]allmulti\n",
      "              Enable  or  disable all-multicast mode.  If selected, all multi‐\n",
      "              cast packets on the network will be received by the interface.\n",
      "\n",
      "       mtu N  This parameter sets the Maximum Transfer Unit (MTU) of an inter‐\n",
      "              face.\n",
      "\n",
      "       dstaddr addr\n",
      "              Set  the  remote  IP  address for a point-to-point link (such as\n",
      "              PPP).  This keyword is now obsolete; use the pointopoint keyword\n",
      "              instead.\n",
      "\n",
      "       netmask addr\n",
      "              Set the IP network mask for this interface.  This value defaults\n",
      "              to the usual class A, B or C network mask (as derived  from  the\n",
      "              interface IP address), but it can be set to any value.\n",
      "\n",
      "       add addr/prefixlen\n",
      "              Add an IPv6 address to an interface.\n",
      "\n",
      "       del addr/prefixlen\n",
      "              Remove an IPv6 address from an interface.\n",
      "\n",
      "       tunnel ::aa.bb.cc.dd\n",
      "              Create  a new SIT (IPv6-in-IPv4) device, tunnelling to the given\n",
      "              destination.\n",
      "\n",
      "       irq addr\n",
      "              Set the interrupt line used by this device.  Not all devices can\n",
      "              dynamically change their IRQ setting.\n",
      "\n",
      "       io_addr addr\n",
      "              Set the start address in I/O space for this device.\n",
      "\n",
      "       mem_start addr\n",
      "              Set  the  start  address  for shared memory used by this device.\n",
      "              Only a few devices need this.\n",
      "\n",
      "       media type\n",
      "              Set the physical port or medium type to be used by  the  device.\n",
      "              Not all devices can change this setting, and those that can vary\n",
      "              in what values  they  support.   Typical  values  for  type  are\n",
      "              10base2 (thin Ethernet), 10baseT (twisted-pair 10Mbps Ethernet),\n",
      "              AUI (external transceiver) and so on.  The special  medium  type\n",
      "              of  auto can be used to tell the driver to auto-sense the media.\n",
      "              Again, not all drivers can do this.\n",
      "\n",
      "       [-]broadcast [addr]\n",
      "              If the address argument is given, set the protocol broadcast ad‐\n",
      "              dress  for  this  interface.   Otherwise,  set  (or  clear)  the\n",
      "              IFF_BROADCAST flag for the interface.\n",
      "\n",
      "       [-]pointopoint [addr]\n",
      "              This keyword enables the point-to-point mode  of  an  interface,\n",
      "              meaning  that  it is a direct link between two machines with no‐\n",
      "              body else listening on it.\n",
      "              If the address argument is also given, set the protocol  address\n",
      "              of  the  other  side of the link, just like the obsolete dstaddr\n",
      "              keyword does.  Otherwise, set or clear the IFF_POINTOPOINT  flag\n",
      "              for the interface.\n",
      "\n",
      "       hw class address\n",
      "              Set the hardware address of this interface, if the device driver\n",
      "              supports this operation.  The keyword must be  followed  by  the\n",
      "              name of the hardware class and the printable ASCII equivalent of\n",
      "              the hardware address.  Hardware classes currently supported  in‐\n",
      "              clude  ether  (Ethernet),  ax25  (AMPR AX.25), ARCnet and netrom\n",
      "              (AMPR NET/ROM).\n",
      "\n",
      "       multicast\n",
      "              Set the multicast flag on the interface. This  should  not  nor‐\n",
      "              mally  be  needed  as  the  drivers set the flag correctly them‐\n",
      "              selves.\n",
      "\n",
      "       address\n",
      "              The IP address to be assigned to this interface.\n",
      "\n",
      "       txqueuelen length\n",
      "              Set the length of the transmit queue of the device. It is useful\n",
      "              to  set  this to small values for slower devices with a high la‐\n",
      "              tency (modem links, ISDN) to prevent fast  bulk  transfers  from\n",
      "              disturbing interactive traffic like telnet too much.\n",
      "\n",
      "NOTES\n",
      "       Since kernel release 2.2 there are no explicit interface statistics for\n",
      "       alias interfaces anymore. The statistics printed for the  original  ad‐\n",
      "       dress  are  shared  with all alias addresses on the same device. If you\n",
      "       want per-address statistics you should add  explicit  accounting  rules\n",
      "       for the address using the iptables(8) command.\n",
      "\n",
      "       Since  net-tools  1.60-4  ifconfig  is printing byte counters and human\n",
      "       readable counters with IEC 60027-2 units. So 1 KiB are 2^10 byte. Note,\n",
      "       the  numbers  are  truncated to one decimal (which can by quite a large\n",
      "       error if you consider 0.1 PiB is 112.589.990.684.262 bytes :)\n",
      "\n",
      "       Interrupt problems with Ethernet device drivers fail with EAGAIN (SIOC‐\n",
      "       SIIFLAGS:  Resource temporarily unavailable) it is most likely a inter‐\n",
      "       rupt conflict.  See  http://www.scyld.com/expert/irq-conflict.html  for\n",
      "       more information.\n",
      "\n",
      "FILES\n",
      "       /proc/net/dev\n",
      "       /proc/net/if_inet6\n",
      "\n",
      "BUGS\n",
      "       Ifconfig  uses the ioctl access method to get the full address informa‐\n",
      "       tion, which limits hardware addresses to 8 bytes.   Because  Infiniband\n",
      "       hardware  address  has  20  bytes, only the first 8 bytes are displayed\n",
      "       correctly.  Please use ip link command from iproute2 package to display\n",
      "       link layer informations including the hardware address.\n",
      "\n",
      "       While  appletalk DDP and IPX addresses will be displayed they cannot be\n",
      "       altered by this command.\n",
      "\n",
      "SEE ALSO\n",
      "       route(8), netstat(8), arp(8),  rarp(8),  iptables(8),  ifup(8),  inter‐\n",
      "       faces(5).\n",
      "       http://physics.nist.gov/cuu/Units/binary.html  -  Prefixes  for  binary\n",
      "       multiples\n",
      "\n",
      "AUTHORS\n",
      "       Fred N. van Kempen, <waltje@uwalt.nl.mugnet.org>\n",
      "       Alan Cox, <Alan.Cox@linux.org>\n",
      "       Phil Blundell, <Philip.Blundell@pobox.com>\n",
      "       Andi Kleen\n",
      "       Bernd Eckenfels, <net-tools@lina.inka.de>\n",
      "\n",
      "net-tools                         2008-10-03                       IFCONFIG(8)\n"
     ]
    }
   ],
   "source": [
    "# Comandos basicos\n",
    "!man ifconfig"
   ]
  },
  {
   "cell_type": "code",
   "execution_count": 7,
   "metadata": {
    "slideshow": {
     "slide_type": "slide"
    }
   },
   "outputs": [
    {
     "name": "stdout",
     "output_type": "stream",
     "text": [
      "lo: flags=73<UP,LOOPBACK,RUNNING>  mtu 65536\n",
      "        inet 127.0.0.1  netmask 255.0.0.0\n",
      "        inet6 ::1  prefixlen 128  scopeid 0x10<host>\n",
      "        loop  txqueuelen 1000  (Local Loopback)\n",
      "        RX packets 7352  bytes 1537376 (1.4 MiB)\n",
      "        RX errors 0  dropped 0  overruns 0  frame 0\n",
      "        TX packets 7352  bytes 1537376 (1.4 MiB)\n",
      "        TX errors 0  dropped 0 overruns 0  carrier 0  collisions 0\n",
      "\n",
      "wlan0: flags=4163<UP,BROADCAST,RUNNING,MULTICAST>  mtu 1500\n",
      "        inet 192.168.100.107  netmask 255.255.255.0  broadcast 192.168.100.255\n",
      "        inet6 fe80::aad3:40f4:d7be:de83  prefixlen 64  scopeid 0x20<link>\n",
      "        inet6 2800:bf0:284:d2a:b492:2268:2444:4a0  prefixlen 64  scopeid 0x0<global>\n",
      "        ether b8:27:eb:31:03:cb  txqueuelen 1000  (Ethernet)\n",
      "        RX packets 83176  bytes 66377851 (63.3 MiB)\n",
      "        RX errors 0  dropped 0  overruns 0  frame 0\n",
      "        TX packets 31413  bytes 23067285 (21.9 MiB)\n",
      "        TX errors 0  dropped 0 overruns 0  carrier 0  collisions 0\n",
      "\n"
     ]
    }
   ],
   "source": [
    "### * Informacion de red\n",
    "!ifconfig"
   ]
  },
  {
   "cell_type": "code",
   "execution_count": 1,
   "metadata": {
    "slideshow": {
     "slide_type": "fragment"
    }
   },
   "outputs": [
    {
     "name": "stdout",
     "output_type": "stream",
     "text": [
      "Linux raspberrypi 4.19.97+ #1294 Thu Jan 30 13:10:54 GMT 2020 armv6l GNU/Linux\n"
     ]
    }
   ],
   "source": [
    "### * Informacion del Kernel\n",
    "!uname -a"
   ]
  },
  {
   "cell_type": "code",
   "execution_count": 9,
   "metadata": {
    "slideshow": {
     "slide_type": "slide"
    }
   },
   "outputs": [
    {
     "name": "stdout",
     "output_type": "stream",
     "text": [
      "pi\n"
     ]
    }
   ],
   "source": [
    "### * Informacion del usuario actual\n",
    "!whoami"
   ]
  },
  {
   "cell_type": "code",
   "execution_count": 10,
   "metadata": {
    "slideshow": {
     "slide_type": "fragment"
    }
   },
   "outputs": [
    {
     "name": "stdout",
     "output_type": "stream",
     "text": [
      "NOMBRE   LÍNEA       TIEMPO           COMENTARIO\n",
      "pi       tty1         2020-04-15 23:17\n",
      "pi       tty7         2020-04-15 23:17 (:0)\n",
      "pi       pts/0        2020-04-16 17:46 (192.168.100.148)\n",
      "pi       pts/1        2020-04-16 21:24 (192.168.100.148)\n"
     ]
    }
   ],
   "source": [
    "### * Informacion del usuarios en el computador\n",
    "!who -H"
   ]
  },
  {
   "cell_type": "code",
   "execution_count": 11,
   "metadata": {
    "slideshow": {
     "slide_type": "slide"
    }
   },
   "outputs": [
    {
     "name": "stdout",
     "output_type": "stream",
     "text": [
      "/home/pi/Documents/AI6_T2_pzW\n"
     ]
    }
   ],
   "source": [
    "### * Donde estoy trabajando \n",
    "!pwd "
   ]
  },
  {
   "cell_type": "code",
   "execution_count": null,
   "metadata": {
    "slideshow": {
     "slide_type": "fragment"
    }
   },
   "outputs": [],
   "source": [
    "### * Trabajar a un directorio especifico\n",
    "!cd /ruta/hastaDirectorio"
   ]
  },
  {
   "cell_type": "code",
   "execution_count": null,
   "metadata": {
    "slideshow": {
     "slide_type": "fragment"
    }
   },
   "outputs": [],
   "source": [
    "### * Crear directorio\n",
    "! mkdir nombreDir"
   ]
  },
  {
   "cell_type": "code",
   "execution_count": null,
   "metadata": {
    "slideshow": {
     "slide_type": "fragment"
    }
   },
   "outputs": [],
   "source": [
    "### * Copiar archivo\n",
    "! cp /ruta_desde/nombreArchivo ruta_hasta/nombreArchivo2"
   ]
  },
  {
   "cell_type": "code",
   "execution_count": null,
   "metadata": {
    "slideshow": {
     "slide_type": "fragment"
    }
   },
   "outputs": [],
   "source": [
    "### * Mover archivo\n",
    "! mv /ruta_desde/nombreArchivo ruta_hasta/nombreArchivo2"
   ]
  },
  {
   "cell_type": "code",
   "execution_count": null,
   "metadata": {
    "slideshow": {
     "slide_type": "fragment"
    }
   },
   "outputs": [],
   "source": [
    "### * Eliminar archivo\n",
    "! rm /ruta/nombreArchivo"
   ]
  },
  {
   "cell_type": "markdown",
   "metadata": {
    "slideshow": {
     "slide_type": "slide"
    }
   },
   "source": [
    "## Crear archivos y llenar desde Terminal"
   ]
  },
  {
   "cell_type": "code",
   "execution_count": null,
   "metadata": {
    "slideshow": {
     "slide_type": "fragment"
    }
   },
   "outputs": [],
   "source": [
    "### * crear los archivos\n",
    "!touch ts1.py ts2.py\n",
    "##\n",
    "### * Listar que existan y sus permisos \n",
    "!ls -l ts*.py\n",
    "##\n",
    "### * identificar el interprete de python3 en CLI\n",
    "!which python3"
   ]
  },
  {
   "cell_type": "code",
   "execution_count": null,
   "metadata": {
    "slideshow": {
     "slide_type": "subslide"
    }
   },
   "outputs": [],
   "source": [
    "# * Llenar con texto \n",
    "!echo -e \"#!/usr/local/bin/python3\\n'''Descripcion'''\\n\\n\\n\\n\\n********************* Test ******************\" > ts*.py\n",
    "!echo -e \"primera linea \\nsegunda linea\\n tercera linea\" > ts*.py\n",
    "### * Vertificar el contenido del archivo (uno a la vez)\n",
    "!cat ts1.py\n",
    "##\n",
    "### * Agregar texto desde la ultima linea\n",
    "!echo \"Agrega texto\" >> myfile.txt\n",
    "##\n",
    "### * Dar permisos de ejecucion desde terminal \n",
    "!chmod +x ts*.py\n",
    "##\n",
    "### *ejecutar script python desde terminal \n",
    "!./ts1.py \n",
    "##\n",
    "### * crear un archivo zip con elementos terminados en *...\n",
    "!zip -r archivename.zip archivedirectory -x \"*.DS_Store\""
   ]
  },
  {
   "cell_type": "markdown",
   "metadata": {
    "slideshow": {
     "slide_type": "slide"
    }
   },
   "source": [
    "## Gestor de paquetes *apt-get*\n",
    "El gestor de paqutes(programas) de diferenetes repositorios cargados en el ditectorio */etc*\n",
    "\n",
    "### dpkg\n",
    "Es el programa base para manejar paquetes Debian en el sistema. Si tiene paquetes .deb, dpkg es lo que permite instalar o analizar sus contenidos."
   ]
  },
  {
   "cell_type": "markdown",
   "metadata": {
    "slideshow": {
     "slide_type": "slide"
    }
   },
   "source": [
    "## Actualizar repositorios\n",
    "Actualizar los repositorios del gestor de paquetes *apt*"
   ]
  },
  {
   "cell_type": "code",
   "execution_count": 1,
   "metadata": {
    "slideshow": {
     "slide_type": "fragment"
    }
   },
   "outputs": [
    {
     "name": "stdout",
     "output_type": "stream",
     "text": [
      "Des:1 http://archive.raspberrypi.org/debian buster InRelease [25,1 kB]\n",
      "Des:2 http://archive.raspberrypi.org/debian buster/main armhf Packages [326 kB]\n",
      "Des:3 http://archive.raspberrypi.org/debian buster/main armhf Contents (deb) [1.706 kB]\n",
      "0% [2 Packages store 0 B] [3 Contents-armhf 0 B/1.706 kB 0%]^C\n"
     ]
    }
   ],
   "source": [
    "!sudo apt-get update && upgrade"
   ]
  },
  {
   "cell_type": "markdown",
   "metadata": {
    "slideshow": {
     "slide_type": "slide"
    }
   },
   "source": [
    "## Si ya tenia instalado raspbian\n",
    "Actualizar la distribucion de la RPI"
   ]
  },
  {
   "cell_type": "code",
   "execution_count": null,
   "metadata": {
    "slideshow": {
     "slide_type": "fragment"
    }
   },
   "outputs": [],
   "source": [
    "!sudo apt-get dist-upgrade"
   ]
  },
  {
   "cell_type": "code",
   "execution_count": null,
   "metadata": {
    "slideshow": {
     "slide_type": "fragment"
    }
   },
   "outputs": [],
   "source": [
    "!sudo apt-get full-upgrade"
   ]
  },
  {
   "cell_type": "markdown",
   "metadata": {
    "slideshow": {
     "slide_type": "slide"
    }
   },
   "source": [
    "\n",
    "### *Referencias*\n",
    "- Raspberry Pi Cookbook by Simon Monk \n",
    "    > Libro: https://books.google.com.ec/books?id=QMovDAAAQBAJ&lpg=PP1&pg=PP1#v=onepage&q&f=false \n",
    "    \n",
    "    > Github: https://github.com/simonmonk/raspberrypi_cookbook_ed2\n",
    "- Kolban's book on raspberry pi by Neil Kolban \n",
    "    > Libro: https://leanpub.com/pi\n",
    "\n",
    "### Material recomendado:\n",
    "> Enlace 1\n",
    "https://www.gnu.org/software/bash/\n",
    "\n",
    "> Enlace 2\n",
    "https://swcarpentry.github.io/shell-novice/reference/"
   ]
  },
  {
   "cell_type": "markdown",
   "metadata": {
    "slideshow": {
     "slide_type": "slide"
    }
   },
   "source": [
    "<center>\n",
    " <img src=\"footer_basaravia.png\"></img>\n",
    "</center>\n",
    "\n",
    "<a rel=\"license\" href=\"http://creativecommons.org/licenses/by-nc-sa/4.0/\"><center><img alt=\"Creative Commons License\" style=\"border-width:0\" src=\"https://i.creativecommons.org/l/by-nc-sa/4.0/88x31.png\" /> </center> </a> <br />This work is licensed under a <a rel=\"license\" href=\"http://creativecommons.org/licenses/by-nc-sa/4.0/\">Creative Commons Attribution-NonCommercial-ShareAlike 4.0 International License</a>.\n"
   ]
  }
 ],
 "metadata": {
  "celltoolbar": "Slideshow",
  "kernelspec": {
   "display_name": "Python 3",
   "language": "python",
   "name": "python3"
  },
  "language_info": {
   "codemirror_mode": {
    "name": "ipython",
    "version": 3
   },
   "file_extension": ".py",
   "mimetype": "text/x-python",
   "name": "python",
   "nbconvert_exporter": "python",
   "pygments_lexer": "ipython3",
   "version": "3.7.3"
  },
  "rise": {
   "enable_chalkboard": true,
   "footer": "<h3>Alexander Saravia</h3>",
   "header": "<h3>IoT Saturdays AI</h3>",
   "scroll": true,
   "theme": "serif",
   "transition": "zoom"
  },
  "toc": {
   "base_numbering": 1,
   "nav_menu": {
    "height": "178px",
    "width": "306px"
   },
   "number_sections": true,
   "sideBar": true,
   "skip_h1_title": false,
   "title_cell": "Table of Contents",
   "title_sidebar": "Contents",
   "toc_cell": false,
   "toc_position": {},
   "toc_section_display": true,
   "toc_window_display": false
  },
  "varInspector": {
   "cols": {
    "lenName": 16,
    "lenType": 16,
    "lenVar": 40
   },
   "kernels_config": {
    "python": {
     "delete_cmd_postfix": "",
     "delete_cmd_prefix": "del ",
     "library": "var_list.py",
     "varRefreshCmd": "print(var_dic_list())"
    },
    "r": {
     "delete_cmd_postfix": ") ",
     "delete_cmd_prefix": "rm(",
     "library": "var_list.r",
     "varRefreshCmd": "cat(var_dic_list()) "
    }
   },
   "types_to_exclude": [
    "module",
    "function",
    "builtin_function_or_method",
    "instance",
    "_Feature"
   ],
   "window_display": false
  }
 },
 "nbformat": 4,
 "nbformat_minor": 4
}