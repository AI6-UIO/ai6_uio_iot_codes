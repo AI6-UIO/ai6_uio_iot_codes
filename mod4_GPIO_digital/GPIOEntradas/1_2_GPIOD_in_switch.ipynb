{
 "cells": [
  {
   "cell_type": "markdown",
   "metadata": {
    "slideshow": {
     "slide_type": "skip"
    }
   },
   "source": [
    " Lectura de un Interruptor con GPIO\n",
    "Un es un dispositivo que permite desviar o interrumpir el curso de una corriente eléctrica.\n",
    "\n",
    " Tipos de Interruptores\n",
    "\n",
    "* __El interruptor magnetotérmico o interruptor automático.__ \n",
    "\n",
    "Incorporar dos tipos de protección, actuando en caso de cortocircuito o de sobrecarga de corriente. Se utiliza comúnmente en los cuadros eléctricos de viviendas, comercios o industrias para controlar y proteger cada circuito individualmente. Su empleo se complementa con el de interruptores diferenciales.\n",
    "\n",
    "\n",
    "* __Interruptor diferencial.__ \n",
    "\n",
    "Es un tipo de protección eléctrica destinada a proteger a las personas de las derivaciones o fugas de corriente causadas por faltas de aislamiento. Se caracterizan por poseer una alta sensibilidad (detectan diferencias de corriente orden de los mA) y una rápida operación.\n",
    "Reed switch. Es un interruptor encapsulado en un tubo de vidrio al vacío que se activa al encontrar un campo magnético.\n",
    "\n",
    "\n",
    "* __Interruptor centrífugo.__ \n",
    "\n",
    "Se activa o desactiva a determinada fuerza centrífuga. Se usa como protección en los motores.\n",
    "\n",
    "\n",
    "* __Interruptor de transferencia.__ \n",
    "\n",
    "Traslada la carga de un circuito a otro en caso de fallo de energía. Utilizado tanto en subestaciones eléctricas como en industrias.\n",
    "\n",
    "\n",
    "* __Interruptor DIP (del inglés ’’’dual in-line package’’).__ \n",
    "\n",
    "Usado en electrónica. Se refiere a una línea doble de contactos. Consiste en una serie de múltiples micro interruptores unidos entre sí.\n",
    "\n",
    "\n",
    "* __Hall-effect switch.__ \n",
    "\n",
    "También usado en electrónica, es un contador que permite leer la cantidad de vueltas por minuto que está dando un imán permanente y entregar pulsos.\n",
    "\n",
    "\n",
    "* __Interruptor inercial (o de aceleración).__ \n",
    "\n",
    "Mide la aceleración o desaceleración del eje de coordenadas sobre el cual esté montado. Por ejemplo, los instalados para disparar las bolsas de aire de los automóviles. En este caso, se deben instalar laterales y frontales para activar las bolsas de aire laterales o frontales según donde el automóvil reciba el impacto.\n",
    "\n",
    "* __Interruptor de membrana (o burbuja).__ \n",
    "\n",
    "Generalmente colocados directamente sobre un circuito impreso. Se usan en algunos controles remotos, los paneles de control de microondas, etc.\n",
    "\n",
    "\n",
    "* __Interruptor de nivel.__ \n",
    "\n",
    "Usado para detectar el nivel de un fluido en un tanque.\n",
    "\n",
    "\n",
    "* __Sensor de flujo.__ \n",
    "\n",
    "Es un tipo de interruptor formado por un imán y un reed switch.\n",
    "\n",
    "\n",
    "* __Interruptor de mercurio.__\n",
    "\n",
    "Usado para detectar la inclinación. Consiste en una gota de mercurio dentro de un tubo de vidrio cerrado herméticamente. En la posición correcta, el mercurio cierra dos contactos de metal.\n",
    "\n",
    "<img src=\"sw1.jpg\" align=center height=\"500px\" width=\"500px\"></img>\n"
   ]
  },
  {
   "cell_type": "markdown",
   "metadata": {
    "slideshow": {
     "slide_type": "slide"
    }
   },
   "source": [
    "# Implementación de una lectura digital con GPIO\n",
    "\n",
    "La lectura se realiza mediante un dispositivo que actuecomo un switch es un dispositivo que permite desviar o interrumpir el curso de una corriente eléctrica."
   ]
  },
  {
   "cell_type": "markdown",
   "metadata": {
    "slideshow": {
     "slide_type": "fragment"
    }
   },
   "source": [
    "Datos del script"
   ]
  },
  {
   "cell_type": "code",
   "execution_count": null,
   "metadata": {
    "slideshow": {
     "slide_type": "fragment"
    }
   },
   "outputs": [],
   "source": [
    "#!/usr/bin/python3\n",
    "__author__ = \"Alexander Saravia\"\n",
    "__license__ = \"CC BY-NC-SA 4.0\"\n",
    "__version__ = \"1.0.0\"\n",
    "__maintainer__ = \"Alexander Saravia\"\n",
    "__email__ = \"alexandersaravia@protonmail.com\"\n",
    "__status__ = \"Development\""
   ]
  },
  {
   "cell_type": "markdown",
   "metadata": {
    "slideshow": {
     "slide_type": "slide"
    }
   },
   "source": [
    "Librerias"
   ]
  },
  {
   "cell_type": "code",
   "execution_count": 3,
   "metadata": {
    "slideshow": {
     "slide_type": "fragment"
    }
   },
   "outputs": [],
   "source": [
    "import RPi.GPIO as GPIO\n",
    "import time"
   ]
  },
  {
   "cell_type": "markdown",
   "metadata": {
    "slideshow": {
     "slide_type": "fragment"
    }
   },
   "source": [
    "Configuraciones o Setup "
   ]
  },
  {
   "cell_type": "code",
   "execution_count": 2,
   "metadata": {
    "slideshow": {
     "slide_type": "fragment"
    }
   },
   "outputs": [
    {
     "ename": "NameError",
     "evalue": "name 'GPIO' is not defined",
     "output_type": "error",
     "traceback": [
      "\u001b[0;31m---------------------------------------------------------------------------\u001b[0m",
      "\u001b[0;31mNameError\u001b[0m                                 Traceback (most recent call last)",
      "\u001b[0;32m<ipython-input-2-c767448e4538>\u001b[0m in \u001b[0;36m<module>\u001b[0;34m()\u001b[0m\n\u001b[0;32m----> 1\u001b[0;31m \u001b[0mGPIO\u001b[0m\u001b[0;34m.\u001b[0m\u001b[0msetmode\u001b[0m\u001b[0;34m(\u001b[0m\u001b[0mGPIO\u001b[0m\u001b[0;34m.\u001b[0m\u001b[0mBCM\u001b[0m\u001b[0;34m)\u001b[0m\u001b[0;34m\u001b[0m\u001b[0;34m\u001b[0m\u001b[0m\n\u001b[0m\u001b[1;32m      2\u001b[0m \u001b[0mGPIO\u001b[0m\u001b[0;34m.\u001b[0m\u001b[0msetup\u001b[0m\u001b[0;34m(\u001b[0m\u001b[0;36m18\u001b[0m\u001b[0;34m,\u001b[0m \u001b[0mGPIO\u001b[0m\u001b[0;34m.\u001b[0m\u001b[0mIN\u001b[0m\u001b[0;34m,\u001b[0m \u001b[0mpull_up_down\u001b[0m\u001b[0;34m=\u001b[0m\u001b[0mGPIO\u001b[0m\u001b[0;34m.\u001b[0m\u001b[0mPUD_UP\u001b[0m\u001b[0;34m)\u001b[0m\u001b[0;34m\u001b[0m\u001b[0;34m\u001b[0m\u001b[0m\n",
      "\u001b[0;31mNameError\u001b[0m: name 'GPIO' is not defined"
     ]
    }
   ],
   "source": [
    "GPIO.setmode(GPIO.BCM)\n",
    "GPIO.setup(18, GPIO.IN, pull_up_down=GPIO.PUD_UP)"
   ]
  },
  {
   "cell_type": "markdown",
   "metadata": {
    "slideshow": {
     "slide_type": "slide"
    }
   },
   "source": [
    "Lazo repetitivo o Loop"
   ]
  },
  {
   "cell_type": "code",
   "execution_count": null,
   "metadata": {
    "slideshow": {
     "slide_type": "fragment"
    }
   },
   "outputs": [],
   "source": [
    "while True:\n",
    "    input_state = GPIO.input(18)\n",
    "    if input_state == False:\n",
    "        print('Button Pressed')\n",
    "        time.sleep(0.2)"
   ]
  },
  {
   "cell_type": "markdown",
   "metadata": {
    "slideshow": {
     "slide_type": "slide"
    }
   },
   "source": [
    "# Resistencias de pull up o pull down GPIO\n",
    "\n",
    "Una resistencia pull up o pull down es una configuracionde  resistencia para un predeterminar el estado lógico de la entrada de un circuito lógico __(microcontrolador)__ cuando dicho circuito está en reposo, siendo para __pull up un estado lógico alto__ y __para pull down bajo.__ De esta forma, se evita falsos estados producidos por ruido eléctrico si dejáramos una entrada con un valor indeterminado.\n",
    "<center>\n",
    "<img src=\"pU_pD1.png\" align=center height=\"500px\" width=\"500px\"></img>\n",
    "</center>\n",
    "\n",
    "Cada pin GPIO tiene resistencias pull-up y pull-down configurables por software. \n",
    "\n",
    "Al usar un pin GPIO como entrada, puede configurar estas resistencias para que una, cualquiera o ninguna de las resistencias esté habilitada, utilizando el parámetro opcional pull_up_down para GPIO.setup. Si se omite este parámetro, no se habilitará ninguna resistencia. Esto deja la entrada flotante.\n",
    "\n",
    "Si está configurado en __GPIO.PUD_UP, la resistencia pull-up está habilitada__; si está configurado en __GPIO.PUD_DOWN, la resistencia pull-down está habilitada__."
   ]
  },
  {
   "cell_type": "markdown",
   "metadata": {
    "slideshow": {
     "slide_type": "slide"
    }
   },
   "source": [
    "# Haciendo un código anti-rebote\n",
    "\n",
    "Los pulsadores como elementos mecánicos, pueden presentar un estado de transicion llamado __rebote__, donde la señal proporcinada oscila entre HiGH y LOW. Para evitar que este comportamiento afecte el funcionamiento del proeycto se implementa una técnica concida como __Anti rebote__\n",
    "\n",
    "<center>\n",
    "<img src=\"antrbt.png\" align=center height=\"300px\" width=\"300px\"></img>\n",
    "</center>\n",
    "\n"
   ]
  },
  {
   "cell_type": "code",
   "execution_count": 12,
   "metadata": {
    "slideshow": {
     "slide_type": "slide"
    }
   },
   "outputs": [],
   "source": [
    "import RPi.GPIO as GPIO\n",
    "import time"
   ]
  },
  {
   "cell_type": "code",
   "execution_count": 16,
   "metadata": {
    "slideshow": {
     "slide_type": "fragment"
    }
   },
   "outputs": [],
   "source": [
    "GPIO.setmode(GPIO.BCM)\n",
    "\n",
    "switch_pin = 23\n",
    "led_pin = 21\n",
    "\n",
    "GPIO.setup(switch_pin, GPIO.IN, pull_up_down=GPIO.PUD_UP)\n",
    "GPIO.setup(led_pin, GPIO.OUT)"
   ]
  },
  {
   "cell_type": "code",
   "execution_count": 17,
   "metadata": {
    "slideshow": {
     "slide_type": "slide"
    }
   },
   "outputs": [
    {
     "name": "stdout",
     "output_type": "stream",
     "text": [
      "0\n"
     ]
    },
    {
     "ename": "KeyboardInterrupt",
     "evalue": "",
     "output_type": "error",
     "traceback": [
      "\u001b[0;31m---------------------------------------------------------------------------\u001b[0m",
      "\u001b[0;31mKeyboardInterrupt\u001b[0m                         Traceback (most recent call last)",
      "\u001b[0;32m<ipython-input-17-34e0ca10265d>\u001b[0m in \u001b[0;36m<module>\u001b[0;34m()\u001b[0m\n\u001b[1;32m      5\u001b[0m     \u001b[0;32mwhile\u001b[0m \u001b[0;34m(\u001b[0m\u001b[0;32mTrue\u001b[0m\u001b[0;34m)\u001b[0m\u001b[0;34m:\u001b[0m\u001b[0;34m\u001b[0m\u001b[0;34m\u001b[0m\u001b[0m\n\u001b[1;32m      6\u001b[0m \u001b[0;31m#         cont+=1\u001b[0m\u001b[0;34m\u001b[0m\u001b[0;34m\u001b[0m\u001b[0;34m\u001b[0m\u001b[0m\n\u001b[0;32m----> 7\u001b[0;31m         \u001b[0mnew_input_state\u001b[0m \u001b[0;34m=\u001b[0m \u001b[0mGPIO\u001b[0m\u001b[0;34m.\u001b[0m\u001b[0minput\u001b[0m\u001b[0;34m(\u001b[0m\u001b[0mswitch_pin\u001b[0m\u001b[0;34m)\u001b[0m\u001b[0;34m\u001b[0m\u001b[0;34m\u001b[0m\u001b[0m\n\u001b[0m\u001b[1;32m      8\u001b[0m         \u001b[0;32mif\u001b[0m \u001b[0mnew_input_state\u001b[0m \u001b[0;34m==\u001b[0m \u001b[0;32mFalse\u001b[0m \u001b[0;32mand\u001b[0m \u001b[0mold_input_state\u001b[0m \u001b[0;34m==\u001b[0m \u001b[0;32mTrue\u001b[0m\u001b[0;34m:\u001b[0m\u001b[0;34m\u001b[0m\u001b[0;34m\u001b[0m\u001b[0m\n\u001b[1;32m      9\u001b[0m             \u001b[0mled_state\u001b[0m \u001b[0;34m=\u001b[0m \u001b[0;32mnot\u001b[0m \u001b[0mled_state\u001b[0m\u001b[0;34m\u001b[0m\u001b[0;34m\u001b[0m\u001b[0m\n",
      "\u001b[0;31mKeyboardInterrupt\u001b[0m: "
     ]
    }
   ],
   "source": [
    "led_state = False\n",
    "old_input_state = True  # pulled-up\n",
    "# cont=0\n",
    "try:\n",
    "    while (True):\n",
    "#         cont+=1\n",
    "        new_input_state = GPIO.input(switch_pin)\n",
    "        if new_input_state == False and old_input_state == True:\n",
    "            led_state = not led_state\n",
    "            time.sleep(0.2)\n",
    "        old_input_state = new_input_state\n",
    "        GPIO.output(led_pin, led_state)\n",
    "\n",
    "finally:\n",
    "#     print(cont)\n",
    "    GPIO.cleanup()"
   ]
  },
  {
   "cell_type": "markdown",
   "metadata": {
    "slideshow": {
     "slide_type": "slide"
    }
   },
   "source": [
    "### *Referencias*\n",
    "- Raspberry Pi Cookbook by Simon Monk \n",
    "    > Libro: https://books.google.com.ec/books?id=QMovDAAAQBAJ&lpg=PP1&pg=PP1#v=onepage&q&f=false \n",
    "    \n",
    "    > Github: https://github.com/simonmonk/raspberrypi_cookbook_ed2\n",
    "- Kolban's book on raspberry pi by Neil Kolban \n",
    "    > Libro: https://leanpub.com/pi\n",
    "    \n",
    "- https://en.wikipedia.org/wiki/Switch\n",
    "\n",
    "### Material recomendado:\n",
    "> Enlace 1\n",
    "\n",
    "> Enlace 2"
   ]
  },
  {
   "cell_type": "markdown",
   "metadata": {
    "slideshow": {
     "slide_type": "slide"
    }
   },
   "source": [
    "<center>\n",
    " <img src=\"footer_basaravia.png\"></img>\n",
    "</center>\n",
    "\n",
    "<a rel=\"license\" href=\"http://creativecommons.org/licenses/by-nc-sa/4.0/\"><center><img alt=\"Creative Commons License\" style=\"border-width:0\" src=\"https://i.creativecommons.org/l/by-nc-sa/4.0/88x31.png\" /> </center> </a> <br />This work is licensed under a <a rel=\"license\" href=\"http://creativecommons.org/licenses/by-nc-sa/4.0/\">Creative Commons Attribution-NonCommercial-ShareAlike 4.0 International License</a>."
   ]
  }
 ],
 "metadata": {
  "celltoolbar": "Slideshow",
  "kernelspec": {
   "display_name": "Python 3",
   "language": "python",
   "name": "python3"
  },
  "language_info": {
   "codemirror_mode": {
    "name": "ipython",
    "version": 3
   },
   "file_extension": ".py",
   "mimetype": "text/x-python",
   "name": "python",
   "nbconvert_exporter": "python",
   "pygments_lexer": "ipython3",
   "version": "3.7.3"
  },
  "rise": {
   "enable_chalkboard": true,
   "footer": "<h3>Alexander Saravia</h3>",
   "header": "<h3>IoT Saturdays AI</h3>",
   "scroll": true,
   "theme": "serif",
   "transition": "zoom"
  },
  "toc": {
   "base_numbering": 1,
   "nav_menu": {},
   "number_sections": true,
   "sideBar": true,
   "skip_h1_title": false,
   "title_cell": "Table of Contents",
   "title_sidebar": "Contents",
   "toc_cell": false,
   "toc_position": {},
   "toc_section_display": true,
   "toc_window_display": false
  },
  "varInspector": {
   "cols": {
    "lenName": 16,
    "lenType": 16,
    "lenVar": 40
   },
   "kernels_config": {
    "python": {
     "delete_cmd_postfix": "",
     "delete_cmd_prefix": "del ",
     "library": "var_list.py",
     "varRefreshCmd": "print(var_dic_list())"
    },
    "r": {
     "delete_cmd_postfix": ") ",
     "delete_cmd_prefix": "rm(",
     "library": "var_list.r",
     "varRefreshCmd": "cat(var_dic_list()) "
    }
   },
   "types_to_exclude": [
    "module",
    "function",
    "builtin_function_or_method",
    "instance",
    "_Feature"
   ],
   "window_display": false
  }
 },
 "nbformat": 4,
 "nbformat_minor": 4
}