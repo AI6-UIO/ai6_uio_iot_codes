{
 "cells": [
  {
   "cell_type": "markdown",
   "metadata": {
    "slideshow": {
     "slide_type": "slide"
    }
   },
   "source": [
    "# Introducción a GPIO en RPI\n",
    "\n",
    "Los comandos que estan precedidos del signo de exclamación __!__, se escriben en la terminal \n",
    "\n",
    "Identifiacmos el sistema en el que estamos trabajando"
   ]
  },
  {
   "cell_type": "code",
   "execution_count": 73,
   "metadata": {
    "slideshow": {
     "slide_type": "fragment"
    }
   },
   "outputs": [
    {
     "name": "stdout",
     "output_type": "stream",
     "text": [
      "Linux raspberrypi 4.19.97+ #1294 Thu Jan 30 13:10:54 GMT 2020 armv6l GNU/Linux\r\n"
     ]
    }
   ],
   "source": [
    "!uname -a"
   ]
  },
  {
   "cell_type": "markdown",
   "metadata": {
    "slideshow": {
     "slide_type": "slide"
    }
   },
   "source": [
    "Procesamiento"
   ]
  },
  {
   "cell_type": "code",
   "execution_count": 72,
   "metadata": {
    "slideshow": {
     "slide_type": "fragment"
    }
   },
   "outputs": [
    {
     "name": "stdout",
     "output_type": "stream",
     "text": [
      "processor\t: 0\r\n",
      "model name\t: ARMv6-compatible processor rev 7 (v6l)\r\n",
      "BogoMIPS\t: 997.08\r\n",
      "Features\t: half thumb fastmult vfp edsp java tls \r\n",
      "CPU implementer\t: 0x41\r\n",
      "CPU architecture: 7\r\n",
      "CPU variant\t: 0x0\r\n",
      "CPU part\t: 0xb76\r\n",
      "CPU revision\t: 7\r\n",
      "\r\n",
      "Hardware\t: BCM2835\r\n",
      "Revision\t: 9000c1\r\n",
      "Serial\t\t: 00000000cf64569e\r\n",
      "Model\t\t: Raspberry Pi Zero W Rev 1.1\r\n"
     ]
    }
   ],
   "source": [
    "!cat /proc/cpuinfo"
   ]
  },
  {
   "cell_type": "markdown",
   "metadata": {
    "slideshow": {
     "slide_type": "slide"
    }
   },
   "source": [
    "Modelo de la placa"
   ]
  },
  {
   "cell_type": "code",
   "execution_count": 71,
   "metadata": {
    "slideshow": {
     "slide_type": "fragment"
    }
   },
   "outputs": [
    {
     "name": "stdout",
     "output_type": "stream",
     "text": [
      "Raspberry Pi Zero W Rev 1.1\u0000"
     ]
    }
   ],
   "source": [
    "!cat /proc/device-tree/model"
   ]
  },
  {
   "cell_type": "markdown",
   "metadata": {
    "slideshow": {
     "slide_type": "fragment"
    }
   },
   "source": [
    "Distribuición de puertos y pines"
   ]
  },
  {
   "cell_type": "code",
   "execution_count": 70,
   "metadata": {
    "slideshow": {
     "slide_type": "slide"
    }
   },
   "outputs": [
    {
     "name": "stdout",
     "output_type": "stream",
     "text": [
      "\u001b[37;42m.-------------------------.\u001b[0m\n",
      "\u001b[37;42m| \u001b[40m\u001b[1;31mo\u001b[0m\u001b[40m\u001b[1;31mo\u001b[0m\u001b[40m\u001b[1;30mo\u001b[0m\u001b[40m\u001b[1;32mo\u001b[0m\u001b[40m\u001b[1;32mo\u001b[0m\u001b[40m\u001b[1;32mo\u001b[0m\u001b[40m\u001b[1;30mo\u001b[0m\u001b[40m\u001b[1;32mo\u001b[0m\u001b[40m\u001b[1;32mo\u001b[0m\u001b[40m\u001b[1;30mo\u001b[0m\u001b[40m\u001b[1;32mo\u001b[0m\u001b[40m\u001b[1;32mo\u001b[0m\u001b[40m\u001b[1;32mo\u001b[0m\u001b[40m\u001b[1;32mo\u001b[0m\u001b[40m\u001b[1;30mo\u001b[0m\u001b[40m\u001b[1;32mo\u001b[0m\u001b[40m\u001b[1;30mo\u001b[0m\u001b[40m\u001b[1;32mo\u001b[0m\u001b[40m\u001b[1;32mo\u001b[0m\u001b[40m\u001b[1;32mo\u001b[0m\u001b[37;42m J8 |\u001b[0m\n",
      "\u001b[37;42m| \u001b[40m\u001b[1;36m1\u001b[0m\u001b[40m\u001b[1;32mo\u001b[0m\u001b[40m\u001b[1;32mo\u001b[0m\u001b[40m\u001b[1;32mo\u001b[0m\u001b[40m\u001b[1;30mo\u001b[0m\u001b[40m\u001b[1;32mo\u001b[0m\u001b[40m\u001b[1;32mo\u001b[0m\u001b[40m\u001b[1;32mo\u001b[0m\u001b[40m\u001b[1;36mo\u001b[0m\u001b[40m\u001b[1;32mo\u001b[0m\u001b[40m\u001b[1;32mo\u001b[0m\u001b[40m\u001b[1;32mo\u001b[0m\u001b[40m\u001b[1;30mo\u001b[0m\u001b[40m\u001b[1;32mo\u001b[0m\u001b[40m\u001b[1;32mo\u001b[0m\u001b[40m\u001b[1;32mo\u001b[0m\u001b[40m\u001b[1;32mo\u001b[0m\u001b[40m\u001b[1;32mo\u001b[0m\u001b[40m\u001b[1;32mo\u001b[0m\u001b[40m\u001b[1;30mo\u001b[0m\u001b[37;42m   \u001b[30;47m|c\u001b[0m\n",
      "\u001b[30;47m---+\u001b[37;42m       \u001b[40m+---+\u001b[42m \u001b[1mPiZero W\u001b[22m\u001b[30;47m|s\u001b[0m\n",
      "\u001b[30;47m sd|\u001b[37;42m       \u001b[40m|SoC|\u001b[42m   \u001b[1mV1.1\u001b[22m  \u001b[30;47m|i\u001b[0m\n",
      "\u001b[30;47m---+|hdmi|\u001b[37;42m \u001b[40m+---+\u001b[42m  \u001b[30;47musb\u001b[42m \u001b[47mpwr\u001b[37;42m |\u001b[0m\n",
      "\u001b[37;42m`---\u001b[30;47m|    |\u001b[37;42m--------\u001b[30;47m| |\u001b[37;42m-\u001b[30;47m| |\u001b[37;42m-'\u001b[0m\n",
      "\n",
      "\u001b[1mRevision           \u001b[0m: 9000c1\n",
      "\u001b[1mSoC                \u001b[0m: BCM2835\n",
      "\u001b[1mRAM                \u001b[0m: 512Mb\n",
      "\u001b[1mStorage            \u001b[0m: MicroSD\n",
      "\u001b[1mUSB ports          \u001b[0m: 1 \u001b[33m(excluding power)\u001b[0m\n",
      "\u001b[1mEthernet ports     \u001b[0m: 0\n",
      "\u001b[1mWi-fi              \u001b[0m: True\n",
      "\u001b[1mBluetooth          \u001b[0m: True\n",
      "\u001b[1mCamera ports (CSI) \u001b[0m: 1\n",
      "\u001b[1mDisplay ports (DSI)\u001b[0m: 0\n",
      "\n",
      "\u001b[1mJ8\u001b[0m:\n",
      "\u001b[1;36m   3V3\u001b[0m  (1)\u001b[0m (2) \u001b[0m \u001b[1;31m5V    \u001b[0m\n",
      "\u001b[1;32m GPIO2\u001b[0m  (3)\u001b[0m (4) \u001b[0m \u001b[1;31m5V    \u001b[0m\n",
      "\u001b[1;32m GPIO3\u001b[0m  (5)\u001b[0m (6) \u001b[0m \u001b[1;30mGND   \u001b[0m\n",
      "\u001b[1;32m GPIO4\u001b[0m  (7)\u001b[0m (8) \u001b[0m \u001b[1;32mGPIO14\u001b[0m\n",
      "\u001b[1;30m   GND\u001b[0m  (9)\u001b[0m (10)\u001b[0m \u001b[1;32mGPIO15\u001b[0m\n",
      "\u001b[1;32mGPIO17\u001b[0m (11)\u001b[0m (12)\u001b[0m \u001b[1;32mGPIO18\u001b[0m\n",
      "\u001b[1;32mGPIO27\u001b[0m (13)\u001b[0m (14)\u001b[0m \u001b[1;30mGND   \u001b[0m\n",
      "\u001b[1;32mGPIO22\u001b[0m (15)\u001b[0m (16)\u001b[0m \u001b[1;32mGPIO23\u001b[0m\n",
      "\u001b[1;36m   3V3\u001b[0m (17)\u001b[0m (18)\u001b[0m \u001b[1;32mGPIO24\u001b[0m\n",
      "\u001b[1;32mGPIO10\u001b[0m (19)\u001b[0m (20)\u001b[0m \u001b[1;30mGND   \u001b[0m\n",
      "\u001b[1;32m GPIO9\u001b[0m (21)\u001b[0m (22)\u001b[0m \u001b[1;32mGPIO25\u001b[0m\n",
      "\u001b[1;32mGPIO11\u001b[0m (23)\u001b[0m (24)\u001b[0m \u001b[1;32mGPIO8 \u001b[0m\n",
      "\u001b[1;30m   GND\u001b[0m (25)\u001b[0m (26)\u001b[0m \u001b[1;32mGPIO7 \u001b[0m\n",
      "\u001b[1;32m GPIO0\u001b[0m (27)\u001b[0m (28)\u001b[0m \u001b[1;32mGPIO1 \u001b[0m\n",
      "\u001b[1;32m GPIO5\u001b[0m (29)\u001b[0m (30)\u001b[0m \u001b[1;30mGND   \u001b[0m\n",
      "\u001b[1;32m GPIO6\u001b[0m (31)\u001b[0m (32)\u001b[0m \u001b[1;32mGPIO12\u001b[0m\n",
      "\u001b[1;32mGPIO13\u001b[0m (33)\u001b[0m (34)\u001b[0m \u001b[1;30mGND   \u001b[0m\n",
      "\u001b[1;32mGPIO19\u001b[0m (35)\u001b[0m (36)\u001b[0m \u001b[1;32mGPIO16\u001b[0m\n",
      "\u001b[1;32mGPIO26\u001b[0m (37)\u001b[0m (38)\u001b[0m \u001b[1;32mGPIO20\u001b[0m\n",
      "\u001b[1;30m   GND\u001b[0m (39)\u001b[0m (40)\u001b[0m \u001b[1;32mGPIO21\u001b[0m\n",
      "\n",
      "For further information, please refer to https://pinout.xyz/\n"
     ]
    }
   ],
   "source": [
    "!pinout"
   ]
  },
  {
   "cell_type": "markdown",
   "metadata": {
    "slideshow": {
     "slide_type": "slide"
    }
   },
   "source": [
    "Para identidficar la disptribución de pines de la raspberry podemos emplear"
   ]
  },
  {
   "cell_type": "code",
   "execution_count": 68,
   "metadata": {
    "slideshow": {
     "slide_type": "fragment"
    }
   },
   "outputs": [
    {
     "name": "stdout",
     "output_type": "stream",
     "text": [
      " +-----+-----+---------+------+---+-Pi ZeroW-+---+------+---------+-----+-----+\r\n",
      " | BCM | wPi |   Name  | Mode | V | Physical | V | Mode | Name    | wPi | BCM |\r\n",
      " +-----+-----+---------+------+---+----++----+---+------+---------+-----+-----+\r\n",
      " |     |     |    3.3v |      |   |  1 || 2  |   |      | 5v      |     |     |\r\n",
      " |   2 |   8 |   SDA.1 |   IN | 1 |  3 || 4  |   |      | 5v      |     |     |\r\n",
      " |   3 |   9 |   SCL.1 |   IN | 1 |  5 || 6  |   |      | 0v      |     |     |\r\n",
      " |   4 |   7 | GPIO. 7 |   IN | 1 |  7 || 8  | 1 | IN   | TxD     | 15  | 14  |\r\n",
      " |     |     |      0v |      |   |  9 || 10 | 1 | IN   | RxD     | 16  | 15  |\r\n",
      " |  17 |   0 | GPIO. 0 |   IN | 0 | 11 || 12 | 1 | IN   | GPIO. 1 | 1   | 18  |\r\n",
      " |  27 |   2 | GPIO. 2 |   IN | 0 | 13 || 14 |   |      | 0v      |     |     |\r\n",
      " |  22 |   3 | GPIO. 3 |   IN | 0 | 15 || 16 | 1 | IN   | GPIO. 4 | 4   | 23  |\r\n",
      " |     |     |    3.3v |      |   | 17 || 18 | 0 | IN   | GPIO. 5 | 5   | 24  |\r\n",
      " |  10 |  12 |    MOSI |   IN | 0 | 19 || 20 |   |      | 0v      |     |     |\r\n",
      " |   9 |  13 |    MISO |   IN | 0 | 21 || 22 | 0 | IN   | GPIO. 6 | 6   | 25  |\r\n",
      " |  11 |  14 |    SCLK |   IN | 0 | 23 || 24 | 1 | IN   | CE0     | 10  | 8   |\r\n",
      " |     |     |      0v |      |   | 25 || 26 | 1 | IN   | CE1     | 11  | 7   |\r\n",
      " |   0 |  30 |   SDA.0 |   IN | 1 | 27 || 28 | 1 | IN   | SCL.0   | 31  | 1   |\r\n",
      " |   5 |  21 | GPIO.21 |   IN | 1 | 29 || 30 |   |      | 0v      |     |     |\r\n",
      " |   6 |  22 | GPIO.22 |   IN | 1 | 31 || 32 | 0 | IN   | GPIO.26 | 26  | 12  |\r\n",
      " |  13 |  23 | GPIO.23 |   IN | 0 | 33 || 34 |   |      | 0v      |     |     |\r\n",
      " |  19 |  24 | GPIO.24 |   IN | 0 | 35 || 36 | 0 | IN   | GPIO.27 | 27  | 16  |\r\n",
      " |  26 |  25 | GPIO.25 |   IN | 0 | 37 || 38 | 0 | IN   | GPIO.28 | 28  | 20  |\r\n",
      " |     |     |      0v |      |   | 39 || 40 | 0 | IN   | GPIO.29 | 29  | 21  |\r\n",
      " +-----+-----+---------+------+---+----++----+---+------+---------+-----+-----+\r\n",
      " | BCM | wPi |   Name  | Mode | V | Physical | V | Mode | Name    | wPi | BCM |\r\n",
      " +-----+-----+---------+------+---+-Pi ZeroW-+---+------+---------+-----+-----+\r\n"
     ]
    }
   ],
   "source": [
    "!gpio readall"
   ]
  },
  {
   "cell_type": "markdown",
   "metadata": {
    "slideshow": {
     "slide_type": "slide"
    }
   },
   "source": [
    "# RPi.GPIO \n",
    "Trabaja con dos modos principlament se puede: \n",
    "\n",
    "__GPIO.setmode(GPIO.BOARD)__ - Es el modo de la *placa o BOARD*, usa los pines denominados como PHYSICAL __(RECOMENDADO)__\n",
    "    \n",
    "__GPIO.setmode(GPIO.BCM)__ - Es el modo del *CHIP DE BROADCOM*, es decir se usa los pines denominados como BCM\n",
    "    \n",
    "    \n",
    "Se puedn usar como entrada(IN) o salida(OUT)\n",
    "\n",
    "* __GPIO.setup(#pin,GPIO.IN)__\n",
    "    \n",
    "* __GPIO.setup(#pin,GPIO.OUT)__\n",
    "    \n",
    "\n",
    "por tanto si necesito usar el pin GPIO.0 como salida en modo BOARD la llamda seria \n",
    "\n",
    "* __GPIO.setmode(GPIO.BOARD)__\n",
    "    \n",
    "* __GPIO.setup(0,GPIO.OUT)__\n",
    "    \n",
    "\n",
    "pin GPIO.0 como salida en modo BCM\n",
    "\n",
    "* __GPIO.setmode(GPIO.BCM)__\n",
    "    \n",
    "* __GPIO.setup(17,GPIO.OUT)__\n",
    "    \n"
   ]
  },
  {
   "cell_type": "markdown",
   "metadata": {
    "slideshow": {
     "slide_type": "skip"
    }
   },
   "source": [
    "Dudas o más información "
   ]
  },
  {
   "cell_type": "code",
   "execution_count": 80,
   "metadata": {
    "slideshow": {
     "slide_type": "skip"
    }
   },
   "outputs": [
    {
     "name": "stdout",
     "output_type": "stream",
     "text": [
      "/bin/sh: 1: time: not found\r\n"
     ]
    }
   ],
   "source": [
    "!time"
   ]
  },
  {
   "cell_type": "code",
   "execution_count": 75,
   "metadata": {
    "slideshow": {
     "slide_type": "skip"
    }
   },
   "outputs": [],
   "source": [
    "#!/usr/bin/python3\n",
    "__author__ = \"Alexander Saravia\"\n",
    "__copyright__ = \"Alexander Saravia, 2019\"\n",
    "__credits__ = [\"Alexander Saravia\", \"alguien mas\"]\n",
    "__license__ = \"CC BY-NC-SA 4.0\"\n",
    "__version__ = \"1.0.0\"\n",
    "__maintainer__ = \"Alexander Saravia\"\n",
    "__email__ = \"alexandersaravia@protonmail.com\"\n",
    "__status__ = \"Development\""
   ]
  },
  {
   "cell_type": "code",
   "execution_count": 76,
   "metadata": {
    "slideshow": {
     "slide_type": "slide"
    }
   },
   "outputs": [],
   "source": [
    "import RPi.GPIO as GPIO\n",
    "import time"
   ]
  },
  {
   "cell_type": "code",
   "execution_count": 77,
   "metadata": {
    "slideshow": {
     "slide_type": "fragment"
    }
   },
   "outputs": [],
   "source": [
    "led=26\n",
    "GPIO.setmode(GPIO.BCM)\n",
    "GPIO.setup(led, GPIO.OUT)"
   ]
  },
  {
   "cell_type": "code",
   "execution_count": 78,
   "metadata": {
    "slideshow": {
     "slide_type": "fragment"
    }
   },
   "outputs": [
    {
     "name": "stdout",
     "output_type": "stream",
     "text": [
      "10\n"
     ]
    }
   ],
   "source": [
    "cont=0\n",
    "try:\n",
    "    while (cont<10):\n",
    "        cont+=1\n",
    "        GPIO.output(led, True)\n",
    "        time.sleep(2)\n",
    "        GPIO.output(led, False)\n",
    "        time.sleep(0.5)\n",
    "finally:\n",
    "    print(cont)\n",
    "    GPIO.cleanup()"
   ]
  },
  {
   "cell_type": "markdown",
   "metadata": {
    "slideshow": {
     "slide_type": "slide"
    }
   },
   "source": [
    "# __Transistor como interruptor.__\n",
    "\n",
    "Los transistor controlados por corriente (BJT) y controlados por voltaje (MOSFET) son elementos semiconductores, que pueden ser utilizados como un switch de estado sólido (sin piezas mecánicas).\n",
    "\n",
    "* __Configuración BJT__ \n",
    "\n",
    "Usado para detectar el nivel de un fluido en un tanque.\n",
    "\n",
    "<img src=\"pwm1.jpg\" align=center height=\"500px\" width=\"500px\"></img>\n",
    "\n",
    "* __Configuración MOSFET__ \n",
    "\n",
    "Es un tipo de interruptor formado por un imán y un reed switch.\n",
    "\n",
    "<img src=\"pwm1.jpg\" align=center height=\"500px\" width=\"500px\"></img>\n",
    "\n"
   ]
  },
  {
   "cell_type": "markdown",
   "metadata": {
    "slideshow": {
     "slide_type": "slide"
    }
   },
   "source": [
    "# *Referencias*\n",
    "- Raspberry Pi Cookbook by Simon Monk\n",
    "- Kolban's book on raspberry pi by Neil Kolban \n",
    "\n",
    "### Material recomendado:\n",
    "> Enlace 1\n",
    "\n",
    "> Enlace 2\n",
    "\n",
    "<a rel=\"license\" href=\"http://creativecommons.org/licenses/by-nc-sa/4.0/\"><img alt=\"Creative Commons License\" style=\"border-width:0\" src=\"https://i.creativecommons.org/l/by-nc-sa/4.0/88x31.png\" /></a><br />This work is licensed under a <a rel=\"license\" href=\"http://creativecommons.org/licenses/by-nc-sa/4.0/\">Creative Commons Attribution-NonCommercial-ShareAlike 4.0 International License</a>."
   ]
  }
 ],
 "metadata": {
  "celltoolbar": "Slideshow",
  "kernelspec": {
   "display_name": "Python 3",
   "language": "python",
   "name": "python3"
  },
  "language_info": {
   "codemirror_mode": {
    "name": "ipython",
    "version": 3
   },
   "file_extension": ".py",
   "mimetype": "text/x-python",
   "name": "python",
   "nbconvert_exporter": "python",
   "pygments_lexer": "ipython3",
   "version": "3.7.3"
  },
  "rise": {
   "backimage": "logoai6uio.png",
   "enable_chalkboard": true,
   "footer": "<h3>Alexander Saravia</h3>",
   "header": "<h3>IoT Saturdays AI</h3>",
   "scroll": true,
   "theme": "serif",
   "transition": "zoom"
  },
  "toc": {
   "base_numbering": 1,
   "nav_menu": {
    "height": "169px",
    "width": "290px"
   },
   "number_sections": true,
   "sideBar": true,
   "skip_h1_title": false,
   "title_cell": "Table of Contents",
   "title_sidebar": "Contents",
   "toc_cell": false,
   "toc_position": {},
   "toc_section_display": true,
   "toc_window_display": false
  },
  "varInspector": {
   "cols": {
    "lenName": 16,
    "lenType": 16,
    "lenVar": 40
   },
   "kernels_config": {
    "python": {
     "delete_cmd_postfix": "",
     "delete_cmd_prefix": "del ",
     "library": "var_list.py",
     "varRefreshCmd": "print(var_dic_list())"
    },
    "r": {
     "delete_cmd_postfix": ") ",
     "delete_cmd_prefix": "rm(",
     "library": "var_list.r",
     "varRefreshCmd": "cat(var_dic_list()) "
    }
   },
   "types_to_exclude": [
    "module",
    "function",
    "builtin_function_or_method",
    "instance",
    "_Feature"
   ],
   "window_display": false
  }
 },
 "nbformat": 4,
 "nbformat_minor": 4
}
