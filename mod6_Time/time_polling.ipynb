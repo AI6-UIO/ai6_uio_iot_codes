{
 "cells": [
  {
   "cell_type": "markdown",
   "metadata": {
    "slideshow": {
     "slide_type": "slide"
    }
   },
   "source": [
    "# Manejo de libreria Time\n",
    "\n",
    "La libreria time es una libreria que nos permite hacer uso del tiempo UNIX en nuestro dispositivos. Esto es los segundos transcurridos desde la época de __Enero 1, 1970, 00:00:00 UTC__\n",
    "\n",
    "<center>\n",
    " <img src=\"clock-time-old-roman.jpg\" height=\"500px\" width=\"500px\"></img>\n",
    "</center>\n"
   ]
  },
  {
   "cell_type": "code",
   "execution_count": null,
   "metadata": {
    "slideshow": {
     "slide_type": "slide"
    }
   },
   "outputs": [],
   "source": [
    "import time\n",
    "\n",
    "?time.struct_time"
   ]
  },
  {
   "cell_type": "code",
   "execution_count": null,
   "metadata": {
    "slideshow": {
     "slide_type": "fragment"
    }
   },
   "outputs": [],
   "source": [
    "\n",
    "seconds = time.time()\n",
    "print(\"Segundos en formato UNIX epoch =\", seconds)"
   ]
  },
  {
   "cell_type": "code",
   "execution_count": null,
   "metadata": {
    "slideshow": {
     "slide_type": "fragment"
    }
   },
   "outputs": [],
   "source": [
    "\n",
    "local_time = time.ctime(seconds)\n",
    "print(\"Fecha y hora local:\", local_time)"
   ]
  },
  {
   "cell_type": "markdown",
   "metadata": {
    "slideshow": {
     "slide_type": "slide"
    }
   },
   "source": [
    "## Sleep\n",
    "Estas es una tarea de __pausa activa__ (pausa el hilo en el que se ejecuta, no el proceso)"
   ]
  },
  {
   "cell_type": "code",
   "execution_count": null,
   "metadata": {
    "slideshow": {
     "slide_type": "fragment"
    }
   },
   "outputs": [],
   "source": [
    "print(\"Accion 1\")\n",
    "time.sleep(1.2) #No ejecuta nada\n",
    "print(\"Accion 2 despues de 1.2 s\")"
   ]
  },
  {
   "cell_type": "markdown",
   "metadata": {
    "slideshow": {
     "slide_type": "slide"
    }
   },
   "source": [
    "## Clase  time.struct_time\n",
    "\n",
    "`time.struct_time(tm_year=2018, tm_mon=12, tm_mday=27, tm_hour=6, tm_min=35, tm_sec=17, tm_wday=3, tm_yday=361, tm_isdst=0)`\n",
    "\n",
    "Los parametros de `time.struct_time` \n",
    "\n",
    "<table border=\"0\">\n",
    "\t<thead>\n",
    "\t\t<tr>\n",
    "\t\t\t<th>Índice </th>\n",
    "\t\t\t<th>Atributo</th>\n",
    "\t\t\t<th>Valores</th>\n",
    "\t\t</tr>\n",
    "\t</thead>\n",
    "\t<tbody>\n",
    "\t\t<tr>\n",
    "\t\t\t<td>0</td>\n",
    "\t\t\t<td><code>tm_year</code></td>\n",
    "\t\t\t<td>0000, ...., 2018, ..., 9999</td>\n",
    "\t\t</tr>\n",
    "\t\t<tr>\n",
    "\t\t\t<td>1</td>\n",
    "\t\t\t<td><code>tm_mon</code></td>\n",
    "\t\t\t<td>1, 2, ..., 12</td>\n",
    "\t\t</tr>\n",
    "\t\t<tr>\n",
    "\t\t\t<td>2</td>\n",
    "\t\t\t<td><code>tm_mday</code></td>\n",
    "\t\t\t<td>1, 2, ..., 31</td>\n",
    "\t\t</tr>\n",
    "\t\t<tr>\n",
    "\t\t\t<td>3</td>\n",
    "\t\t\t<td><code>tm_hour</code></td>\n",
    "\t\t\t<td>0, 1, ..., 23</td>\n",
    "\t\t</tr>\n",
    "\t\t<tr>\n",
    "\t\t\t<td>4</td>\n",
    "\t\t\t<td><code>tm_min</code></td>\n",
    "\t\t\t<td>0, 1, ..., 59</td>\n",
    "\t\t</tr>\n",
    "\t\t<tr>\n",
    "\t\t\t<td>5</td>\n",
    "\t\t\t<td><code>tm_sec</code></td>\n",
    "\t\t\t<td>0, 1, ..., 61</td>\n",
    "\t\t</tr>\n",
    "\t\t<tr>\n",
    "\t\t\t<td>6</td>\n",
    "\t\t\t<td><code>tm_wday</code></td>\n",
    "\t\t\t<td>0, 1, ..., 6; Lunes es 0</td>\n",
    "\t\t</tr>\n",
    "\t\t<tr>\n",
    "\t\t\t<td>7</td>\n",
    "\t\t\t<td><code>tm_yday</code></td>\n",
    "\t\t\t<td>1, 2, ..., 366</td>\n",
    "\t\t</tr>\n",
    "\t\t<tr>\n",
    "\t\t\t<td>8</td>\n",
    "\t\t\t<td><code>tm_isdst</code></td>\n",
    "\t\t\t<td>0, 1 or -1, Es horario de verano</td>\n",
    "\t\t</tr>\n",
    "\t</tbody>\n",
    "</table>\n",
    "\n",
    "__Notas:__ \n",
    "El horario de verano (o tiempo de ahorro de luz) (en inglés Daylight saving time o DST) es el horario que sigue la convención por la cual se adelantan los relojes para usar más la luz diurna. Por lo general, los relojes se adelantan una hora a principios de la primavera, y se retrasan en otoño. La primavera boreal/septentrional se inicia a fines de marzo, mientras que la primavera austral/meridional comienza a finales de septiembre. Ya el otoño del hemisferio norte inicia a fines de septiembre, mientras que el otoño del hemisferio sur comienza a fines de marzo."
   ]
  },
  {
   "cell_type": "code",
   "execution_count": null,
   "metadata": {},
   "outputs": [],
   "source": [
    "seconds = time.time()\n",
    "result = time.localtime(seconds)\n",
    "print(\"estructura :\", result)\n",
    "print(\"\\naño:\", result[0])\n",
    "print(\"hora:\", result.tm_hour)"
   ]
  },
  {
   "cell_type": "code",
   "execution_count": null,
   "metadata": {},
   "outputs": [],
   "source": [
    "# Para el Ecuador la Hora es UTC - 5\n",
    "seconds = time.time()\n",
    "result = time.gmtime(seconds)\n",
    "print(\"result:\", result)\n",
    "print(\"\\nyear:\", result.tm_year)\n",
    "print(\"tm_hour:\", result.tm_hour-5)"
   ]
  },
  {
   "cell_type": "markdown",
   "metadata": {
    "slideshow": {
     "slide_type": "slide"
    }
   },
   "source": [
    "# Polling\n",
    "Tambien llamado Sondeo, es un metodo de obtención de información a través de la consulta constante puede resultar en strees para el procesador del dispositivo.\n",
    "\n",
    "<center>\n",
    " <img src=\"clock-time-old-roman.jpg\" height=\"500px\" width=\"500px\"></img>\n",
    "</center>"
   ]
  },
  {
   "cell_type": "code",
   "execution_count": null,
   "metadata": {},
   "outputs": [],
   "source": [
    "'''\n",
    "For Linux and Mac precision is +- 1 microsecond or 0.001 milliseconds. \n",
    "Python on Windows uses +- 16 milliseconds precision due to clock implementation problems due to process interrupts.\n",
    "''' \n",
    "tActual=0\n",
    "tAnterior=time.time() #muestra t en nanosegundos\n",
    "# tLimite=20/(10 ** 3) #tiempo en milisegundos\n",
    "tLimite=1.2 #tiempo en segundos\n",
    "   \n",
    "while True:\n",
    "    print(\"\\n\",tActual)\n",
    "    print(tAnterior)\n",
    "    dt=tActual-tAnterior\n",
    "    print(dt)\n",
    "    if (dt > tLimite):\n",
    "        print(\"                                                       -----> Paso tiempo limite\",dt)\n",
    "        break\n",
    "    else:\n",
    "        print(\"No cumple tiempo Limite\")\n",
    "    tActual=time.time()"
   ]
  },
  {
   "cell_type": "code",
   "execution_count": null,
   "metadata": {},
   "outputs": [],
   "source": [
    "tActual=0\n",
    "tAnterior=time.perf_counter() #muestra t en nanosegundos\n",
    "# tLimite=20/(10 ** 3) #tiempo en milisegundos\n",
    "tLimite=1.2 #tiempo en segundos\n",
    "\n",
    "while True:\n",
    "    print(\"\\n\",tActual)\n",
    "    print(tAnterior)\n",
    "    dt=tActual-tAnterior\n",
    "    print(dt)\n",
    "    if (dt > tLimite):\n",
    "        print(\"                                                       -----> Paso tiempo limite\",dt)\n",
    "        break\n",
    "    else:\n",
    "        print(\"No cumple tiempo Limite\")\n",
    "    tActual=time.perf_counter()"
   ]
  },
  {
   "cell_type": "markdown",
   "metadata": {
    "slideshow": {
     "slide_type": "slide"
    }
   },
   "source": [
    "# Threading\n",
    "Los hilos en un lenguaje de progrmacion sirven para otorgar sincronización en la ejecución de un programa. Cuando una aplicacion usa hilos deja de ser __secuencial__ y pasa a ser __concurrente__.\n",
    "\n",
    "*__Notas:__*\n",
    "\n",
    "- *Concurrente:* Soporta 2 o más acciones en progreso (define que acciones se ejecutan al mismo tiempo)\n",
    "- *Paralelo:* Soporta 2 o más acciones ejecutadndose simultaneamente (hardware paralelo)\n",
    "\n",
    "<center>\n",
    " <img src=\"thread.jpg\" height=\"500px\" width=\"500px\"></img>\n",
    "</center>\n",
    "\n",
    "## Timer\n",
    "El objeto Timer tiene la estructura `threading.Timer(interval, function, args = None, kwargs = None)`\n",
    "\n",
    "\n",
    "## Hilos Daemon\n",
    "Son el fin de ciclo en un proceso, termina el proceso aunque los hilos no hayan finalizado."
   ]
  },
  {
   "cell_type": "code",
   "execution_count": null,
   "metadata": {
    "slideshow": {
     "slide_type": "slide"
    }
   },
   "outputs": [],
   "source": [
    "import threading\n",
    "?? threading.Thread"
   ]
  },
  {
   "cell_type": "code",
   "execution_count": 2,
   "metadata": {
    "slideshow": {
     "slide_type": "slide"
    }
   },
   "outputs": [],
   "source": [
    "import threading\n",
    "import time\n",
    "import logging\n",
    "\n",
    "def consultar(id):\n",
    "    logging.info(\"ID: \" + str(id))\n",
    "    print(\"Hola soy el hilo\",id)\n",
    "    time.sleep(2)\n",
    "    return\n",
    "\n",
    "def guardar(id,data):\n",
    "    logging.info(\"ID: \" + str(id)+ \" DATA: \" + str(data))\n",
    "    print(\"Hola soy el hilo \"+str(id)+\" y esta es mi data: \"+str(data))\n",
    "    time.sleep(5)\n",
    "    return\n",
    "\n"
   ]
  },
  {
   "cell_type": "markdown",
   "metadata": {
    "slideshow": {
     "slide_type": "slide"
    }
   },
   "source": [
    "## Ejecución de Hilos\n",
    "Tiempo de ejecucion super rapido, el hilo principal no permite la ejecucion de los hilos secundarios"
   ]
  },
  {
   "cell_type": "code",
   "execution_count": 8,
   "metadata": {
    "slideshow": {
     "slide_type": "fragment"
    }
   },
   "outputs": [
    {
     "name": "stderr",
     "output_type": "stream",
     "text": [
      "[INFO] (hilo1) ID: 1\n"
     ]
    },
    {
     "name": "stdout",
     "output_type": "stream",
     "text": [
      " >>> HOLA! \n",
      " ADIOS! <<<\n",
      "Tiempo 0\n"
     ]
    },
    {
     "name": "stderr",
     "output_type": "stream",
     "text": [
      "[INFO] (hilo2) ID: 2 DATA: texto\n"
     ]
    },
    {
     "name": "stdout",
     "output_type": "stream",
     "text": [
      "Hola soy el hilo 1\n",
      "Hola soy el hilo 2 y esta es mi data: texto\n"
     ]
    }
   ],
   "source": [
    "# logging.basicConfig(level=logging.DEBUG, format='[%(levelname)s] (%(threadName)-s) %(message)s')\n",
    "\n",
    "inicio = time.localtime(time.time())\n",
    "\n",
    "# Instanciacion de los hilos\n",
    "h1 = threading.Thread(name=\"hilo1\",target=consultar,args=(1,))\n",
    "h2 = threading.Thread(name=\"hilo2\",target=guardar,args=(2,\"texto\"))\n",
    "\n",
    "# Iniciar de los hilos \n",
    "h1.start()\n",
    "h2.start()\n",
    "\n",
    "# Hilo principal\n",
    "print(\" >>> HOLA! \")\n",
    "print(\" ADIOS! <<<\")\n",
    "\n",
    "fin = time.localtime(time.time())\n",
    "print(\"Tiempo \"+str(fin[5] - inicio[5]))"
   ]
  },
  {
   "cell_type": "markdown",
   "metadata": {
    "slideshow": {
     "slide_type": "slide"
    }
   },
   "source": [
    "## Ejecución de Hilo Principal\n",
    "Tiempo de ejecucion super rapido, el hilo principal no permite la ejecucion de los hilos secundarios"
   ]
  },
  {
   "cell_type": "code",
   "execution_count": 6,
   "metadata": {
    "slideshow": {
     "slide_type": "fragment"
    }
   },
   "outputs": [
    {
     "name": "stderr",
     "output_type": "stream",
     "text": [
      "[INFO] (MainThread) ID: 1\n"
     ]
    },
    {
     "name": "stdout",
     "output_type": "stream",
     "text": [
      " >>> HOLA! \n",
      "Hola soy el hilo 1\n"
     ]
    },
    {
     "name": "stderr",
     "output_type": "stream",
     "text": [
      "[INFO] (MainThread) ID: 1 DATA: demo\n"
     ]
    },
    {
     "name": "stdout",
     "output_type": "stream",
     "text": [
      "Hola soy el hilo 1 y esta es mi data: demo\n",
      " ADIOS! <<<\n",
      "Tiempo 7\n"
     ]
    }
   ],
   "source": [
    "logging.basicConfig(level=logging.DEBUG, format='[%(levelname)s] (%(threadName)-s) %(message)s')\n",
    "\n",
    "\n",
    "inicio = time.localtime(time.time())\n",
    "\n",
    "# Hilo principal\n",
    "print(\" >>> HOLA! \")\n",
    "consultar(1)\n",
    "guardar(1,'demo')\n",
    "print(\" ADIOS! <<<\")\n",
    "\n",
    "fin = time.localtime(time.time())\n",
    "print(\"Tiempo \"+str(fin[5] - inicio[5]))"
   ]
  },
  {
   "cell_type": "markdown",
   "metadata": {},
   "source": [
    "## Ejecución de Hilos Secundarios antes del Principal"
   ]
  },
  {
   "cell_type": "code",
   "execution_count": null,
   "metadata": {},
   "outputs": [],
   "source": [
    "\n",
    "logging.basicConfig(level=logging.DEBUG, format='[%(levelname)s] (%(threadName)-s) %(message)s')\n",
    "\n",
    "inicio = time.localtime(time.time())\n",
    "\n",
    "# Instanciacion de los hilos\n",
    "h1 = threading.Thread(name=\"hilo1\",target=consultar,args=(1,))\n",
    "h2 = threading.Thread(name=\"hilo2\",target=guardar,args=(2,\"texto\"))\n",
    "\n",
    "# Iniciar de los hilos \n",
    "h1.start()\n",
    "h2.start()\n",
    "\n",
    "# Los hilos se deben terminar de ejecutar para que se ejecute el hilo principal\n",
    "h1.join()\n",
    "h2.join()\n",
    "print(\" >>> HOLA! \")\n",
    "print(\" ADIOS! <<<\")\n",
    "\n",
    "fin = time.localtime(time.time())\n",
    "print(\"Tiempo \"+str(fin[5] - inicio[5]))"
   ]
  },
  {
   "cell_type": "code",
   "execution_count": null,
   "metadata": {},
   "outputs": [],
   "source": [
    "logging.basicConfig(level=logging.DEBUG, format='[%(levelname)s] (%(threadName)-s) %(message)s')\n",
    "\n",
    "\n",
    "inicio = time.localtime(time.time())\n",
    "\n",
    "# Instanciacion de los hilos\n",
    "h1 = threading.Thread(name=\"hilo1\",target=consultar,args=(1,))\n",
    "h2 = threading.Thread(name=\"hilo2\",target=guardar,args=(2,\"texto\"))\n",
    "\n",
    "# Iniciar de los hilos \n",
    "h1.start()\n",
    "h2.start()\n",
    "\n",
    "# Los hilos se deben terminar de ejecutar para que se ejecute el hilo principal\n",
    "h1.join()\n",
    "h2.join()\n",
    "print(\" >>> Soy el hilo principal ADIOS! \")\n",
    "\n",
    "# Hilo principal\n",
    "# print(\" >>> HOLA! Soy el hilo principal\")\n",
    "# consultar(1)\n",
    "# guardar(1,'demo')\n",
    "\n",
    "fin = time.localtime(time.time())\n",
    "print(\"Tiempo \"+str(fin[5] - inicio[5]))"
   ]
  },
  {
   "cell_type": "code",
   "execution_count": null,
   "metadata": {},
   "outputs": [],
   "source": [
    "import threading\n",
    "?? threading.Timer"
   ]
  },
  {
   "cell_type": "code",
   "execution_count": null,
   "metadata": {
    "slideshow": {
     "slide_type": "fragment"
    }
   },
   "outputs": [],
   "source": [
    "import threading \n",
    "\n",
    "def timerFunc(): \n",
    "    print(\"Ejecuta funcion\")\n",
    "    return\n",
    "            \n",
    "timer = threading.Timer(5.0, timerFunc) \n",
    "timer.start()\n",
    "timer.join()\n",
    "# time.sleep(7)\n",
    "# print(\"Cancelling timer\\n\") \n",
    "# timer.cancel()\n",
    "print(\"Exit\\n\")"
   ]
  },
  {
   "cell_type": "markdown",
   "metadata": {
    "slideshow": {
     "slide_type": "slide"
    }
   },
   "source": [
    "\n",
    "### *Referencias*\n",
    "- Raspberry Pi Cookbook by Simon Monk \n",
    "    > Libro: https://books.google.com.ec/books?id=QMovDAAAQBAJ&lpg=PP1&pg=PP1#v=onepage&q&f=false \n",
    "    \n",
    "    > Github: https://github.com/simonmonk/raspberrypi_cookbook_ed2\n",
    "- Kolban's book on raspberry pi by Neil Kolban \n",
    "    > Libro: https://leanpub.com/pi\n",
    "\n",
    "### Material recomendado:\n",
    "> Enlace 1\n",
    "https://docs.python.org/3/library/time.html\n",
    "\n",
    "> Enlace 2\n",
    "https://docs.python.org/3/library/threading.html\n",
    "\n",
    "> Video Hilos en Python 3 - MitoCode\n",
    "[![Hilos en Python 3](https://img.youtube.com/vi/3Rlh6uUuQqA/0.jpg)](https://www.youtube.com/watch?v=3Rlh6uUuQqA)\n",
    "\n"
   ]
  },
  {
   "cell_type": "markdown",
   "metadata": {
    "slideshow": {
     "slide_type": "slide"
    }
   },
   "source": [
    "<center>\n",
    " <img src=\"footer_basaravia.png\"></img>\n",
    "</center>\n",
    "\n",
    "<a rel=\"license\" href=\"http://creativecommons.org/licenses/by-nc-sa/4.0/\"><center><img alt=\"Creative Commons License\" style=\"border-width:0\" src=\"https://i.creativecommons.org/l/by-nc-sa/4.0/88x31.png\" /> </center> </a> <br />This work is licensed under a <a rel=\"license\" href=\"http://creativecommons.org/licenses/by-nc-sa/4.0/\">Creative Commons Attribution-NonCommercial-ShareAlike 4.0 International License</a>."
   ]
  }
 ],
 "metadata": {
  "celltoolbar": "Slideshow",
  "kernelspec": {
   "display_name": "Python 3",
   "language": "python",
   "name": "python3"
  },
  "language_info": {
   "codemirror_mode": {
    "name": "ipython",
    "version": 3
   },
   "file_extension": ".py",
   "mimetype": "text/x-python",
   "name": "python",
   "nbconvert_exporter": "python",
   "pygments_lexer": "ipython3",
   "version": "3.7.3"
  },
  "rise": {
   "enable_chalkboard": true,
   "footer": "<h3>Alexander Saravia</h3>",
   "header": "<h3>IoT Saturdays AI</h3>",
   "scroll": true,
   "theme": "serif",
   "transition": "zoom"
  },
  "toc": {
   "base_numbering": 1,
   "nav_menu": {},
   "number_sections": true,
   "sideBar": true,
   "skip_h1_title": false,
   "title_cell": "Table of Contents",
   "title_sidebar": "Contents",
   "toc_cell": false,
   "toc_position": {},
   "toc_section_display": true,
   "toc_window_display": false
  },
  "varInspector": {
   "cols": {
    "lenName": 16,
    "lenType": 16,
    "lenVar": 40
   },
   "kernels_config": {
    "python": {
     "delete_cmd_postfix": "",
     "delete_cmd_prefix": "del ",
     "library": "var_list.py",
     "varRefreshCmd": "print(var_dic_list())"
    },
    "r": {
     "delete_cmd_postfix": ") ",
     "delete_cmd_prefix": "rm(",
     "library": "var_list.r",
     "varRefreshCmd": "cat(var_dic_list()) "
    }
   },
   "position": {
    "height": "174px",
    "left": "976px",
    "right": "20px",
    "top": "32px",
    "width": "411px"
   },
   "types_to_exclude": [
    "module",
    "function",
    "builtin_function_or_method",
    "instance",
    "_Feature"
   ],
   "window_display": false
  }
 },
 "nbformat": 4,
 "nbformat_minor": 4
}
